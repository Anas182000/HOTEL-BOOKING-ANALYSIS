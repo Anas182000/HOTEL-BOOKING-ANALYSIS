{
  "nbformat": 4,
  "nbformat_minor": 0,
  "metadata": {
    "kernelspec": {
      "display_name": "Python 3",
      "language": "python",
      "name": "python3"
    },
    "language_info": {
      "codemirror_mode": {
        "name": "ipython",
        "version": 3
      },
      "file_extension": ".py",
      "mimetype": "text/x-python",
      "name": "python",
      "nbconvert_exporter": "python",
      "pygments_lexer": "ipython3",
      "version": "3.6.6"
    },
    "colab": {
      "provenance": [],
      "collapsed_sections": [
        "LReUUd50U8yx",
        "MFWvNuPwNrxF",
        "_MYVwkKIb-MK",
        "giRNvnHfN3gl",
        "7MbLRQKhqYLA",
        "0j70ce-Rd8mb",
        "nSN0TfwqeUhB",
        "3Wuo1FEbO0d0",
        "HFwBFNuNuq5_",
        "XQ5_e6FVPUGi",
        "nABAC1e2_amF",
        "j-CDMToY_f22",
        "I4StB58hAijW",
        "KbTIRq4fApjL",
        "vYp47EigD99I",
        "6U1ZzstDEdN8",
        "FCBi2k9yFIvt",
        "Fny9yWdQjeTT",
        "diH40mtFkaIB",
        "tPjZ0PKIFOgE",
        "Q9gsqUhOFkJs",
        "SwuZdUpoHxN1",
        "935_GdGOIssZ",
        "wKqwNDHihAiT",
        "I8-15SNDseWg",
        "1fm_bE7AvO1f",
        "_iCzuGE7JISd",
        "3Mdf_s-FtJt4",
        "qAsOGGoiMXsm",
        "Gmz00xfu09mn",
        "XUki1w7H1AJ_"
      ],
      "include_colab_link": true
    }
  },
  "cells": [
    {
      "cell_type": "markdown",
      "metadata": {
        "id": "view-in-github",
        "colab_type": "text"
      },
      "source": [
        "<a href=\"https://colab.research.google.com/github/Anas182000/HOTEL-BOOKING-ANALYSIS/blob/main/Final_Copy_Hotel_Booking_Analysis_Capstone_Project_space_needle.ipynb\" target=\"_parent\"><img src=\"https://colab.research.google.com/assets/colab-badge.svg\" alt=\"Open In Colab\"/></a>"
      ]
    },
    {
      "cell_type": "markdown",
      "source": [
        "# **Hotel Booking is governed by many factors:-**\n",
        "## **Including the type of hotel, time of the year,number of guests, types of customers, country, preferences etc.**\n",
        "\n",
        "## **The basic objective of this project is to Explore and analyze the given data and to discover important factors that govern these bookings.**\n",
        "\n"
      ],
      "metadata": {
        "id": "LReUUd50U8yx"
      }
    },
    {
      "cell_type": "markdown",
      "source": [
        "# **Importing Libraries and importing the dataset provided**"
      ],
      "metadata": {
        "id": "MFWvNuPwNrxF"
      }
    },
    {
      "cell_type": "code",
      "metadata": {
        "id": "dByMsuzT8Tnw"
      },
      "source": [
        "#importing libraries\n",
        "\n",
        "import pandas as pd\n",
        "import matplotlib.pyplot as plt\n",
        "import seaborn as sns\n",
        "import numpy as np"
      ],
      "execution_count": null,
      "outputs": []
    },
    {
      "cell_type": "code",
      "source": [
        "# #mounting drive\n",
        "\n",
        "# from google.colab import drive\n",
        "# drive.mount('/content/drive/')\n",
        "#accessing it by link\n",
        "url = \"https://drive.google.com/file/d/1EGYfR6Q0LIN7DWJg9rp0WMwVcW9F9UG4/view?usp=sharing\"\n",
        "url='https://drive.google.com/uc?id=' + url.split('/')[-2]"
      ],
      "metadata": {
        "id": "Z6n7sqJ2bvfi"
      },
      "execution_count": null,
      "outputs": []
    },
    {
      "cell_type": "code",
      "source": [
        "# #importing dataset \n",
        "\n",
        "# hoteldb = pd.read_csv('/content/drive/MyDrive/Alma/Hotel Bookings.csv')\n",
        "\n",
        "hoteldb = pd.read_csv(url)"
      ],
      "metadata": {
        "id": "6vRG9PBWcRLP"
      },
      "execution_count": null,
      "outputs": []
    },
    {
      "cell_type": "markdown",
      "source": [
        "\n",
        "\n",
        "# **Overview of the dataset** "
      ],
      "metadata": {
        "id": "_MYVwkKIb-MK"
      }
    },
    {
      "cell_type": "markdown",
      "source": [
        "### Data Description:\n",
        "\n",
        "1. **hotel** : *Hotel(Resort Hotel or City Hotel)* \n",
        "\n",
        "2. **is_canceled** : *Value indicating if the booking was canceled (1) or not (0)*\n",
        "\n",
        "3. **lead_time** :* Number of days that elapsed between the entering date of the booking into the PMS and the arrival date*\n",
        "\n",
        "4. **arrival_date_year** : *Year of arrival date*\n",
        "\n",
        "5. **arrival_date_month** : *Month of arrival date*\n",
        "\n",
        "6. **arrival_date_week_number** : *Week number of year for arrival date*\n",
        "\n",
        "7. **arrival_date_day_of_month** : *Day of arrival date*\n",
        "\n",
        "8. **stays_in_weekend_nights** : *Number of weekend nights (Saturday or Sunday) the guest stayed or booked to stay at the hotel*\n",
        "\n",
        "9. **stays_in_week_nights** : *Number of week nights (Monday to Friday) the guest stayed or booked to stay at the hotel*\n",
        "\n",
        "10. **adults** : *Number of adults*\n",
        "\n",
        "11. **children** : *Number of children*\n",
        "\n",
        "12. **babies** : *Number of babies*\n",
        "\n",
        "13. **meal** : *Type of meal booked. Categories are presented in standard hospitality meal packages:*\n",
        "\n",
        "14. **country** : *Country of origin.`*\n",
        "\n",
        "15. **market_segment** : *Market segment designation. In categories, the term “TA” means “Travel Agents” and “TO” means “Tour Operators”*\n",
        "\n",
        "16. **distribution_channel** : *Booking distribution channel. The term “TA” means “Travel Agents” and “TO” means “Tour Operators”*\n",
        "\n",
        "17. **is_repeated_guest** : *Value indicating if the booking name was from a repeated guest (1) or not (0)*\n",
        "\n",
        "18. **previous_cancellations** : *Number of previous bookings that were cancelled by the customer prior to the current booking*\n",
        "\n",
        "19. **previous_bookings_not_canceled** : *Number of previous bookings not cancelled by the customer prior to the current booking*\n",
        "\n",
        "20. **reserved_room_type** : *Code of room type reserved. Code is presented instead of designation for anonymity reasons.*\n",
        "\n",
        "21. **assigned_room_type** : *Code for the type of room assigned to the booking.* \n",
        "\n",
        "22. **booking_changes** : *Number of changes/amendments made to the booking from the moment the booking was entered on the PMS until the moment of check-in or cancellation*\n",
        "\n",
        "23. **deposit_type** : *Indication on if the customer made a deposit to guarantee the booking.*\n",
        "\n",
        "24. **agent** : *ID of the travel agency that made the booking*\n",
        "\n",
        "25. **company** : *ID of the company/entity that made the booking or responsible for paying the booking.* \n",
        "\n",
        "26. **days_in_waiting_list** : *Number of days the booking was in the waiting list before it was confirmed to the customer*\n",
        "\n",
        "27. **customer_type** : *Type of booking, assuming one of four categories*\n",
        "\n",
        "\n",
        "28. **adr** : *Average Daily Rate as defined by dividing the sum of all lodging transactions by the total number of staying night*\n",
        "\n",
        "29. **required_car_parking_spaces** : *Number of car parking spaces required by the customer*\n",
        "\n",
        "30. **total_of_special_requests** :* Number of special requests made by the customer (e.g. twin bed or high floor)*\n",
        "\n",
        "31. **reservation_status** : *Reservation last status, assuming one of three categories*\n",
        "* Canceled – booking was canceled by the customer\n",
        "* Check-Out – customer has checked in but already departed\n",
        "* No-Show – customer did not check-in and did inform the hotel of the reason why\n",
        "\n",
        "\n",
        "\n",
        "\n",
        "\n",
        "32. **reservation_status_date** : *Date at which the last status was set. This variable can be used in conjunction with the ReservationStatus to understand when was the booking canceled or when did the customer checked-out of the hotel*"
      ],
      "metadata": {
        "id": "giRNvnHfN3gl"
      }
    },
    {
      "cell_type": "code",
      "source": [
        "#top 5 rows\n",
        "\n",
        "hoteldb.head()"
      ],
      "metadata": {
        "id": "2KQQLMbVcq9w",
        "colab": {
          "base_uri": "https://localhost:8080/"
        },
        "outputId": "fe0f8564-1bf5-44db-bd52-90b8c70f77a0"
      },
      "execution_count": null,
      "outputs": [
        {
          "output_type": "execute_result",
          "data": {
            "text/plain": [
              "          hotel  is_canceled  lead_time  arrival_date_year arrival_date_month  \\\n",
              "0  Resort Hotel            0        342               2015               July   \n",
              "1  Resort Hotel            0        737               2015               July   \n",
              "2  Resort Hotel            0          7               2015               July   \n",
              "3  Resort Hotel            0         13               2015               July   \n",
              "4  Resort Hotel            0         14               2015               July   \n",
              "\n",
              "   arrival_date_week_number  arrival_date_day_of_month  \\\n",
              "0                        27                          1   \n",
              "1                        27                          1   \n",
              "2                        27                          1   \n",
              "3                        27                          1   \n",
              "4                        27                          1   \n",
              "\n",
              "   stays_in_weekend_nights  stays_in_week_nights  adults  ...  deposit_type  \\\n",
              "0                        0                     0       2  ...    No Deposit   \n",
              "1                        0                     0       2  ...    No Deposit   \n",
              "2                        0                     1       1  ...    No Deposit   \n",
              "3                        0                     1       1  ...    No Deposit   \n",
              "4                        0                     2       2  ...    No Deposit   \n",
              "\n",
              "   agent company days_in_waiting_list customer_type   adr  \\\n",
              "0    NaN     NaN                    0     Transient   0.0   \n",
              "1    NaN     NaN                    0     Transient   0.0   \n",
              "2    NaN     NaN                    0     Transient  75.0   \n",
              "3  304.0     NaN                    0     Transient  75.0   \n",
              "4  240.0     NaN                    0     Transient  98.0   \n",
              "\n",
              "   required_car_parking_spaces  total_of_special_requests  reservation_status  \\\n",
              "0                            0                          0           Check-Out   \n",
              "1                            0                          0           Check-Out   \n",
              "2                            0                          0           Check-Out   \n",
              "3                            0                          0           Check-Out   \n",
              "4                            0                          1           Check-Out   \n",
              "\n",
              "  reservation_status_date  \n",
              "0              2015-07-01  \n",
              "1              2015-07-01  \n",
              "2              2015-07-02  \n",
              "3              2015-07-02  \n",
              "4              2015-07-03  \n",
              "\n",
              "[5 rows x 32 columns]"
            ],
            "text/html": [
              "\n",
              "  <div id=\"df-ffae13e1-0a9e-47f5-bf63-0ed74422a8dc\">\n",
              "    <div class=\"colab-df-container\">\n",
              "      <div>\n",
              "<style scoped>\n",
              "    .dataframe tbody tr th:only-of-type {\n",
              "        vertical-align: middle;\n",
              "    }\n",
              "\n",
              "    .dataframe tbody tr th {\n",
              "        vertical-align: top;\n",
              "    }\n",
              "\n",
              "    .dataframe thead th {\n",
              "        text-align: right;\n",
              "    }\n",
              "</style>\n",
              "<table border=\"1\" class=\"dataframe\">\n",
              "  <thead>\n",
              "    <tr style=\"text-align: right;\">\n",
              "      <th></th>\n",
              "      <th>hotel</th>\n",
              "      <th>is_canceled</th>\n",
              "      <th>lead_time</th>\n",
              "      <th>arrival_date_year</th>\n",
              "      <th>arrival_date_month</th>\n",
              "      <th>arrival_date_week_number</th>\n",
              "      <th>arrival_date_day_of_month</th>\n",
              "      <th>stays_in_weekend_nights</th>\n",
              "      <th>stays_in_week_nights</th>\n",
              "      <th>adults</th>\n",
              "      <th>...</th>\n",
              "      <th>deposit_type</th>\n",
              "      <th>agent</th>\n",
              "      <th>company</th>\n",
              "      <th>days_in_waiting_list</th>\n",
              "      <th>customer_type</th>\n",
              "      <th>adr</th>\n",
              "      <th>required_car_parking_spaces</th>\n",
              "      <th>total_of_special_requests</th>\n",
              "      <th>reservation_status</th>\n",
              "      <th>reservation_status_date</th>\n",
              "    </tr>\n",
              "  </thead>\n",
              "  <tbody>\n",
              "    <tr>\n",
              "      <th>0</th>\n",
              "      <td>Resort Hotel</td>\n",
              "      <td>0</td>\n",
              "      <td>342</td>\n",
              "      <td>2015</td>\n",
              "      <td>July</td>\n",
              "      <td>27</td>\n",
              "      <td>1</td>\n",
              "      <td>0</td>\n",
              "      <td>0</td>\n",
              "      <td>2</td>\n",
              "      <td>...</td>\n",
              "      <td>No Deposit</td>\n",
              "      <td>NaN</td>\n",
              "      <td>NaN</td>\n",
              "      <td>0</td>\n",
              "      <td>Transient</td>\n",
              "      <td>0.0</td>\n",
              "      <td>0</td>\n",
              "      <td>0</td>\n",
              "      <td>Check-Out</td>\n",
              "      <td>2015-07-01</td>\n",
              "    </tr>\n",
              "    <tr>\n",
              "      <th>1</th>\n",
              "      <td>Resort Hotel</td>\n",
              "      <td>0</td>\n",
              "      <td>737</td>\n",
              "      <td>2015</td>\n",
              "      <td>July</td>\n",
              "      <td>27</td>\n",
              "      <td>1</td>\n",
              "      <td>0</td>\n",
              "      <td>0</td>\n",
              "      <td>2</td>\n",
              "      <td>...</td>\n",
              "      <td>No Deposit</td>\n",
              "      <td>NaN</td>\n",
              "      <td>NaN</td>\n",
              "      <td>0</td>\n",
              "      <td>Transient</td>\n",
              "      <td>0.0</td>\n",
              "      <td>0</td>\n",
              "      <td>0</td>\n",
              "      <td>Check-Out</td>\n",
              "      <td>2015-07-01</td>\n",
              "    </tr>\n",
              "    <tr>\n",
              "      <th>2</th>\n",
              "      <td>Resort Hotel</td>\n",
              "      <td>0</td>\n",
              "      <td>7</td>\n",
              "      <td>2015</td>\n",
              "      <td>July</td>\n",
              "      <td>27</td>\n",
              "      <td>1</td>\n",
              "      <td>0</td>\n",
              "      <td>1</td>\n",
              "      <td>1</td>\n",
              "      <td>...</td>\n",
              "      <td>No Deposit</td>\n",
              "      <td>NaN</td>\n",
              "      <td>NaN</td>\n",
              "      <td>0</td>\n",
              "      <td>Transient</td>\n",
              "      <td>75.0</td>\n",
              "      <td>0</td>\n",
              "      <td>0</td>\n",
              "      <td>Check-Out</td>\n",
              "      <td>2015-07-02</td>\n",
              "    </tr>\n",
              "    <tr>\n",
              "      <th>3</th>\n",
              "      <td>Resort Hotel</td>\n",
              "      <td>0</td>\n",
              "      <td>13</td>\n",
              "      <td>2015</td>\n",
              "      <td>July</td>\n",
              "      <td>27</td>\n",
              "      <td>1</td>\n",
              "      <td>0</td>\n",
              "      <td>1</td>\n",
              "      <td>1</td>\n",
              "      <td>...</td>\n",
              "      <td>No Deposit</td>\n",
              "      <td>304.0</td>\n",
              "      <td>NaN</td>\n",
              "      <td>0</td>\n",
              "      <td>Transient</td>\n",
              "      <td>75.0</td>\n",
              "      <td>0</td>\n",
              "      <td>0</td>\n",
              "      <td>Check-Out</td>\n",
              "      <td>2015-07-02</td>\n",
              "    </tr>\n",
              "    <tr>\n",
              "      <th>4</th>\n",
              "      <td>Resort Hotel</td>\n",
              "      <td>0</td>\n",
              "      <td>14</td>\n",
              "      <td>2015</td>\n",
              "      <td>July</td>\n",
              "      <td>27</td>\n",
              "      <td>1</td>\n",
              "      <td>0</td>\n",
              "      <td>2</td>\n",
              "      <td>2</td>\n",
              "      <td>...</td>\n",
              "      <td>No Deposit</td>\n",
              "      <td>240.0</td>\n",
              "      <td>NaN</td>\n",
              "      <td>0</td>\n",
              "      <td>Transient</td>\n",
              "      <td>98.0</td>\n",
              "      <td>0</td>\n",
              "      <td>1</td>\n",
              "      <td>Check-Out</td>\n",
              "      <td>2015-07-03</td>\n",
              "    </tr>\n",
              "  </tbody>\n",
              "</table>\n",
              "<p>5 rows × 32 columns</p>\n",
              "</div>\n",
              "      <button class=\"colab-df-convert\" onclick=\"convertToInteractive('df-ffae13e1-0a9e-47f5-bf63-0ed74422a8dc')\"\n",
              "              title=\"Convert this dataframe to an interactive table.\"\n",
              "              style=\"display:none;\">\n",
              "        \n",
              "  <svg xmlns=\"http://www.w3.org/2000/svg\" height=\"24px\"viewBox=\"0 0 24 24\"\n",
              "       width=\"24px\">\n",
              "    <path d=\"M0 0h24v24H0V0z\" fill=\"none\"/>\n",
              "    <path d=\"M18.56 5.44l.94 2.06.94-2.06 2.06-.94-2.06-.94-.94-2.06-.94 2.06-2.06.94zm-11 1L8.5 8.5l.94-2.06 2.06-.94-2.06-.94L8.5 2.5l-.94 2.06-2.06.94zm10 10l.94 2.06.94-2.06 2.06-.94-2.06-.94-.94-2.06-.94 2.06-2.06.94z\"/><path d=\"M17.41 7.96l-1.37-1.37c-.4-.4-.92-.59-1.43-.59-.52 0-1.04.2-1.43.59L10.3 9.45l-7.72 7.72c-.78.78-.78 2.05 0 2.83L4 21.41c.39.39.9.59 1.41.59.51 0 1.02-.2 1.41-.59l7.78-7.78 2.81-2.81c.8-.78.8-2.07 0-2.86zM5.41 20L4 18.59l7.72-7.72 1.47 1.35L5.41 20z\"/>\n",
              "  </svg>\n",
              "      </button>\n",
              "      \n",
              "  <style>\n",
              "    .colab-df-container {\n",
              "      display:flex;\n",
              "      flex-wrap:wrap;\n",
              "      gap: 12px;\n",
              "    }\n",
              "\n",
              "    .colab-df-convert {\n",
              "      background-color: #E8F0FE;\n",
              "      border: none;\n",
              "      border-radius: 50%;\n",
              "      cursor: pointer;\n",
              "      display: none;\n",
              "      fill: #1967D2;\n",
              "      height: 32px;\n",
              "      padding: 0 0 0 0;\n",
              "      width: 32px;\n",
              "    }\n",
              "\n",
              "    .colab-df-convert:hover {\n",
              "      background-color: #E2EBFA;\n",
              "      box-shadow: 0px 1px 2px rgba(60, 64, 67, 0.3), 0px 1px 3px 1px rgba(60, 64, 67, 0.15);\n",
              "      fill: #174EA6;\n",
              "    }\n",
              "\n",
              "    [theme=dark] .colab-df-convert {\n",
              "      background-color: #3B4455;\n",
              "      fill: #D2E3FC;\n",
              "    }\n",
              "\n",
              "    [theme=dark] .colab-df-convert:hover {\n",
              "      background-color: #434B5C;\n",
              "      box-shadow: 0px 1px 3px 1px rgba(0, 0, 0, 0.15);\n",
              "      filter: drop-shadow(0px 1px 2px rgba(0, 0, 0, 0.3));\n",
              "      fill: #FFFFFF;\n",
              "    }\n",
              "  </style>\n",
              "\n",
              "      <script>\n",
              "        const buttonEl =\n",
              "          document.querySelector('#df-ffae13e1-0a9e-47f5-bf63-0ed74422a8dc button.colab-df-convert');\n",
              "        buttonEl.style.display =\n",
              "          google.colab.kernel.accessAllowed ? 'block' : 'none';\n",
              "\n",
              "        async function convertToInteractive(key) {\n",
              "          const element = document.querySelector('#df-ffae13e1-0a9e-47f5-bf63-0ed74422a8dc');\n",
              "          const dataTable =\n",
              "            await google.colab.kernel.invokeFunction('convertToInteractive',\n",
              "                                                     [key], {});\n",
              "          if (!dataTable) return;\n",
              "\n",
              "          const docLinkHtml = 'Like what you see? Visit the ' +\n",
              "            '<a target=\"_blank\" href=https://colab.research.google.com/notebooks/data_table.ipynb>data table notebook</a>'\n",
              "            + ' to learn more about interactive tables.';\n",
              "          element.innerHTML = '';\n",
              "          dataTable['output_type'] = 'display_data';\n",
              "          await google.colab.output.renderOutput(dataTable, element);\n",
              "          const docLink = document.createElement('div');\n",
              "          docLink.innerHTML = docLinkHtml;\n",
              "          element.appendChild(docLink);\n",
              "        }\n",
              "      </script>\n",
              "    </div>\n",
              "  </div>\n",
              "  "
            ]
          },
          "metadata": {},
          "execution_count": 61
        }
      ]
    },
    {
      "cell_type": "code",
      "source": [
        "#last 5 rows\n",
        "\n",
        "hoteldb.tail()"
      ],
      "metadata": {
        "id": "JRF7mDgBczCH",
        "colab": {
          "base_uri": "https://localhost:8080/"
        },
        "outputId": "02cd0697-8f66-48eb-e4ba-5501459ea8dd"
      },
      "execution_count": null,
      "outputs": [
        {
          "output_type": "execute_result",
          "data": {
            "text/plain": [
              "             hotel  is_canceled  lead_time  arrival_date_year  \\\n",
              "119385  City Hotel            0         23               2017   \n",
              "119386  City Hotel            0        102               2017   \n",
              "119387  City Hotel            0         34               2017   \n",
              "119388  City Hotel            0        109               2017   \n",
              "119389  City Hotel            0        205               2017   \n",
              "\n",
              "       arrival_date_month  arrival_date_week_number  \\\n",
              "119385             August                        35   \n",
              "119386             August                        35   \n",
              "119387             August                        35   \n",
              "119388             August                        35   \n",
              "119389             August                        35   \n",
              "\n",
              "        arrival_date_day_of_month  stays_in_weekend_nights  \\\n",
              "119385                         30                        2   \n",
              "119386                         31                        2   \n",
              "119387                         31                        2   \n",
              "119388                         31                        2   \n",
              "119389                         29                        2   \n",
              "\n",
              "        stays_in_week_nights  adults  ...  deposit_type  agent company  \\\n",
              "119385                     5       2  ...    No Deposit  394.0     NaN   \n",
              "119386                     5       3  ...    No Deposit    9.0     NaN   \n",
              "119387                     5       2  ...    No Deposit    9.0     NaN   \n",
              "119388                     5       2  ...    No Deposit   89.0     NaN   \n",
              "119389                     7       2  ...    No Deposit    9.0     NaN   \n",
              "\n",
              "       days_in_waiting_list customer_type     adr  \\\n",
              "119385                    0     Transient   96.14   \n",
              "119386                    0     Transient  225.43   \n",
              "119387                    0     Transient  157.71   \n",
              "119388                    0     Transient  104.40   \n",
              "119389                    0     Transient  151.20   \n",
              "\n",
              "        required_car_parking_spaces  total_of_special_requests  \\\n",
              "119385                            0                          0   \n",
              "119386                            0                          2   \n",
              "119387                            0                          4   \n",
              "119388                            0                          0   \n",
              "119389                            0                          2   \n",
              "\n",
              "        reservation_status reservation_status_date  \n",
              "119385           Check-Out              2017-09-06  \n",
              "119386           Check-Out              2017-09-07  \n",
              "119387           Check-Out              2017-09-07  \n",
              "119388           Check-Out              2017-09-07  \n",
              "119389           Check-Out              2017-09-07  \n",
              "\n",
              "[5 rows x 32 columns]"
            ],
            "text/html": [
              "\n",
              "  <div id=\"df-c382f2d3-f726-4f4a-a2fb-f0a611cb26d0\">\n",
              "    <div class=\"colab-df-container\">\n",
              "      <div>\n",
              "<style scoped>\n",
              "    .dataframe tbody tr th:only-of-type {\n",
              "        vertical-align: middle;\n",
              "    }\n",
              "\n",
              "    .dataframe tbody tr th {\n",
              "        vertical-align: top;\n",
              "    }\n",
              "\n",
              "    .dataframe thead th {\n",
              "        text-align: right;\n",
              "    }\n",
              "</style>\n",
              "<table border=\"1\" class=\"dataframe\">\n",
              "  <thead>\n",
              "    <tr style=\"text-align: right;\">\n",
              "      <th></th>\n",
              "      <th>hotel</th>\n",
              "      <th>is_canceled</th>\n",
              "      <th>lead_time</th>\n",
              "      <th>arrival_date_year</th>\n",
              "      <th>arrival_date_month</th>\n",
              "      <th>arrival_date_week_number</th>\n",
              "      <th>arrival_date_day_of_month</th>\n",
              "      <th>stays_in_weekend_nights</th>\n",
              "      <th>stays_in_week_nights</th>\n",
              "      <th>adults</th>\n",
              "      <th>...</th>\n",
              "      <th>deposit_type</th>\n",
              "      <th>agent</th>\n",
              "      <th>company</th>\n",
              "      <th>days_in_waiting_list</th>\n",
              "      <th>customer_type</th>\n",
              "      <th>adr</th>\n",
              "      <th>required_car_parking_spaces</th>\n",
              "      <th>total_of_special_requests</th>\n",
              "      <th>reservation_status</th>\n",
              "      <th>reservation_status_date</th>\n",
              "    </tr>\n",
              "  </thead>\n",
              "  <tbody>\n",
              "    <tr>\n",
              "      <th>119385</th>\n",
              "      <td>City Hotel</td>\n",
              "      <td>0</td>\n",
              "      <td>23</td>\n",
              "      <td>2017</td>\n",
              "      <td>August</td>\n",
              "      <td>35</td>\n",
              "      <td>30</td>\n",
              "      <td>2</td>\n",
              "      <td>5</td>\n",
              "      <td>2</td>\n",
              "      <td>...</td>\n",
              "      <td>No Deposit</td>\n",
              "      <td>394.0</td>\n",
              "      <td>NaN</td>\n",
              "      <td>0</td>\n",
              "      <td>Transient</td>\n",
              "      <td>96.14</td>\n",
              "      <td>0</td>\n",
              "      <td>0</td>\n",
              "      <td>Check-Out</td>\n",
              "      <td>2017-09-06</td>\n",
              "    </tr>\n",
              "    <tr>\n",
              "      <th>119386</th>\n",
              "      <td>City Hotel</td>\n",
              "      <td>0</td>\n",
              "      <td>102</td>\n",
              "      <td>2017</td>\n",
              "      <td>August</td>\n",
              "      <td>35</td>\n",
              "      <td>31</td>\n",
              "      <td>2</td>\n",
              "      <td>5</td>\n",
              "      <td>3</td>\n",
              "      <td>...</td>\n",
              "      <td>No Deposit</td>\n",
              "      <td>9.0</td>\n",
              "      <td>NaN</td>\n",
              "      <td>0</td>\n",
              "      <td>Transient</td>\n",
              "      <td>225.43</td>\n",
              "      <td>0</td>\n",
              "      <td>2</td>\n",
              "      <td>Check-Out</td>\n",
              "      <td>2017-09-07</td>\n",
              "    </tr>\n",
              "    <tr>\n",
              "      <th>119387</th>\n",
              "      <td>City Hotel</td>\n",
              "      <td>0</td>\n",
              "      <td>34</td>\n",
              "      <td>2017</td>\n",
              "      <td>August</td>\n",
              "      <td>35</td>\n",
              "      <td>31</td>\n",
              "      <td>2</td>\n",
              "      <td>5</td>\n",
              "      <td>2</td>\n",
              "      <td>...</td>\n",
              "      <td>No Deposit</td>\n",
              "      <td>9.0</td>\n",
              "      <td>NaN</td>\n",
              "      <td>0</td>\n",
              "      <td>Transient</td>\n",
              "      <td>157.71</td>\n",
              "      <td>0</td>\n",
              "      <td>4</td>\n",
              "      <td>Check-Out</td>\n",
              "      <td>2017-09-07</td>\n",
              "    </tr>\n",
              "    <tr>\n",
              "      <th>119388</th>\n",
              "      <td>City Hotel</td>\n",
              "      <td>0</td>\n",
              "      <td>109</td>\n",
              "      <td>2017</td>\n",
              "      <td>August</td>\n",
              "      <td>35</td>\n",
              "      <td>31</td>\n",
              "      <td>2</td>\n",
              "      <td>5</td>\n",
              "      <td>2</td>\n",
              "      <td>...</td>\n",
              "      <td>No Deposit</td>\n",
              "      <td>89.0</td>\n",
              "      <td>NaN</td>\n",
              "      <td>0</td>\n",
              "      <td>Transient</td>\n",
              "      <td>104.40</td>\n",
              "      <td>0</td>\n",
              "      <td>0</td>\n",
              "      <td>Check-Out</td>\n",
              "      <td>2017-09-07</td>\n",
              "    </tr>\n",
              "    <tr>\n",
              "      <th>119389</th>\n",
              "      <td>City Hotel</td>\n",
              "      <td>0</td>\n",
              "      <td>205</td>\n",
              "      <td>2017</td>\n",
              "      <td>August</td>\n",
              "      <td>35</td>\n",
              "      <td>29</td>\n",
              "      <td>2</td>\n",
              "      <td>7</td>\n",
              "      <td>2</td>\n",
              "      <td>...</td>\n",
              "      <td>No Deposit</td>\n",
              "      <td>9.0</td>\n",
              "      <td>NaN</td>\n",
              "      <td>0</td>\n",
              "      <td>Transient</td>\n",
              "      <td>151.20</td>\n",
              "      <td>0</td>\n",
              "      <td>2</td>\n",
              "      <td>Check-Out</td>\n",
              "      <td>2017-09-07</td>\n",
              "    </tr>\n",
              "  </tbody>\n",
              "</table>\n",
              "<p>5 rows × 32 columns</p>\n",
              "</div>\n",
              "      <button class=\"colab-df-convert\" onclick=\"convertToInteractive('df-c382f2d3-f726-4f4a-a2fb-f0a611cb26d0')\"\n",
              "              title=\"Convert this dataframe to an interactive table.\"\n",
              "              style=\"display:none;\">\n",
              "        \n",
              "  <svg xmlns=\"http://www.w3.org/2000/svg\" height=\"24px\"viewBox=\"0 0 24 24\"\n",
              "       width=\"24px\">\n",
              "    <path d=\"M0 0h24v24H0V0z\" fill=\"none\"/>\n",
              "    <path d=\"M18.56 5.44l.94 2.06.94-2.06 2.06-.94-2.06-.94-.94-2.06-.94 2.06-2.06.94zm-11 1L8.5 8.5l.94-2.06 2.06-.94-2.06-.94L8.5 2.5l-.94 2.06-2.06.94zm10 10l.94 2.06.94-2.06 2.06-.94-2.06-.94-.94-2.06-.94 2.06-2.06.94z\"/><path d=\"M17.41 7.96l-1.37-1.37c-.4-.4-.92-.59-1.43-.59-.52 0-1.04.2-1.43.59L10.3 9.45l-7.72 7.72c-.78.78-.78 2.05 0 2.83L4 21.41c.39.39.9.59 1.41.59.51 0 1.02-.2 1.41-.59l7.78-7.78 2.81-2.81c.8-.78.8-2.07 0-2.86zM5.41 20L4 18.59l7.72-7.72 1.47 1.35L5.41 20z\"/>\n",
              "  </svg>\n",
              "      </button>\n",
              "      \n",
              "  <style>\n",
              "    .colab-df-container {\n",
              "      display:flex;\n",
              "      flex-wrap:wrap;\n",
              "      gap: 12px;\n",
              "    }\n",
              "\n",
              "    .colab-df-convert {\n",
              "      background-color: #E8F0FE;\n",
              "      border: none;\n",
              "      border-radius: 50%;\n",
              "      cursor: pointer;\n",
              "      display: none;\n",
              "      fill: #1967D2;\n",
              "      height: 32px;\n",
              "      padding: 0 0 0 0;\n",
              "      width: 32px;\n",
              "    }\n",
              "\n",
              "    .colab-df-convert:hover {\n",
              "      background-color: #E2EBFA;\n",
              "      box-shadow: 0px 1px 2px rgba(60, 64, 67, 0.3), 0px 1px 3px 1px rgba(60, 64, 67, 0.15);\n",
              "      fill: #174EA6;\n",
              "    }\n",
              "\n",
              "    [theme=dark] .colab-df-convert {\n",
              "      background-color: #3B4455;\n",
              "      fill: #D2E3FC;\n",
              "    }\n",
              "\n",
              "    [theme=dark] .colab-df-convert:hover {\n",
              "      background-color: #434B5C;\n",
              "      box-shadow: 0px 1px 3px 1px rgba(0, 0, 0, 0.15);\n",
              "      filter: drop-shadow(0px 1px 2px rgba(0, 0, 0, 0.3));\n",
              "      fill: #FFFFFF;\n",
              "    }\n",
              "  </style>\n",
              "\n",
              "      <script>\n",
              "        const buttonEl =\n",
              "          document.querySelector('#df-c382f2d3-f726-4f4a-a2fb-f0a611cb26d0 button.colab-df-convert');\n",
              "        buttonEl.style.display =\n",
              "          google.colab.kernel.accessAllowed ? 'block' : 'none';\n",
              "\n",
              "        async function convertToInteractive(key) {\n",
              "          const element = document.querySelector('#df-c382f2d3-f726-4f4a-a2fb-f0a611cb26d0');\n",
              "          const dataTable =\n",
              "            await google.colab.kernel.invokeFunction('convertToInteractive',\n",
              "                                                     [key], {});\n",
              "          if (!dataTable) return;\n",
              "\n",
              "          const docLinkHtml = 'Like what you see? Visit the ' +\n",
              "            '<a target=\"_blank\" href=https://colab.research.google.com/notebooks/data_table.ipynb>data table notebook</a>'\n",
              "            + ' to learn more about interactive tables.';\n",
              "          element.innerHTML = '';\n",
              "          dataTable['output_type'] = 'display_data';\n",
              "          await google.colab.output.renderOutput(dataTable, element);\n",
              "          const docLink = document.createElement('div');\n",
              "          docLink.innerHTML = docLinkHtml;\n",
              "          element.appendChild(docLink);\n",
              "        }\n",
              "      </script>\n",
              "    </div>\n",
              "  </div>\n",
              "  "
            ]
          },
          "metadata": {},
          "execution_count": 62
        }
      ]
    },
    {
      "cell_type": "code",
      "source": [
        "#calculate basic statistical data\n",
        "\n",
        "hoteldb.describe()"
      ],
      "metadata": {
        "id": "8K1KfnoCp-jC",
        "colab": {
          "base_uri": "https://localhost:8080/"
        },
        "outputId": "6ae3b7d0-f463-4dc6-957f-1a27ad0ceddb"
      },
      "execution_count": null,
      "outputs": [
        {
          "output_type": "execute_result",
          "data": {
            "text/plain": [
              "         is_canceled      lead_time  arrival_date_year  \\\n",
              "count  119390.000000  119390.000000      119390.000000   \n",
              "mean        0.370416     104.011416        2016.156554   \n",
              "std         0.482918     106.863097           0.707476   \n",
              "min         0.000000       0.000000        2015.000000   \n",
              "25%         0.000000      18.000000        2016.000000   \n",
              "50%         0.000000      69.000000        2016.000000   \n",
              "75%         1.000000     160.000000        2017.000000   \n",
              "max         1.000000     737.000000        2017.000000   \n",
              "\n",
              "       arrival_date_week_number  arrival_date_day_of_month  \\\n",
              "count             119390.000000              119390.000000   \n",
              "mean                  27.165173                  15.798241   \n",
              "std                   13.605138                   8.780829   \n",
              "min                    1.000000                   1.000000   \n",
              "25%                   16.000000                   8.000000   \n",
              "50%                   28.000000                  16.000000   \n",
              "75%                   38.000000                  23.000000   \n",
              "max                   53.000000                  31.000000   \n",
              "\n",
              "       stays_in_weekend_nights  stays_in_week_nights         adults  \\\n",
              "count            119390.000000         119390.000000  119390.000000   \n",
              "mean                  0.927599              2.500302       1.856403   \n",
              "std                   0.998613              1.908286       0.579261   \n",
              "min                   0.000000              0.000000       0.000000   \n",
              "25%                   0.000000              1.000000       2.000000   \n",
              "50%                   1.000000              2.000000       2.000000   \n",
              "75%                   2.000000              3.000000       2.000000   \n",
              "max                  19.000000             50.000000      55.000000   \n",
              "\n",
              "            children         babies  is_repeated_guest  \\\n",
              "count  119386.000000  119390.000000      119390.000000   \n",
              "mean        0.103890       0.007949           0.031912   \n",
              "std         0.398561       0.097436           0.175767   \n",
              "min         0.000000       0.000000           0.000000   \n",
              "25%         0.000000       0.000000           0.000000   \n",
              "50%         0.000000       0.000000           0.000000   \n",
              "75%         0.000000       0.000000           0.000000   \n",
              "max        10.000000      10.000000           1.000000   \n",
              "\n",
              "       previous_cancellations  previous_bookings_not_canceled  \\\n",
              "count           119390.000000                   119390.000000   \n",
              "mean                 0.087118                        0.137097   \n",
              "std                  0.844336                        1.497437   \n",
              "min                  0.000000                        0.000000   \n",
              "25%                  0.000000                        0.000000   \n",
              "50%                  0.000000                        0.000000   \n",
              "75%                  0.000000                        0.000000   \n",
              "max                 26.000000                       72.000000   \n",
              "\n",
              "       booking_changes          agent      company  days_in_waiting_list  \\\n",
              "count    119390.000000  103050.000000  6797.000000         119390.000000   \n",
              "mean          0.221124      86.693382   189.266735              2.321149   \n",
              "std           0.652306     110.774548   131.655015             17.594721   \n",
              "min           0.000000       1.000000     6.000000              0.000000   \n",
              "25%           0.000000       9.000000    62.000000              0.000000   \n",
              "50%           0.000000      14.000000   179.000000              0.000000   \n",
              "75%           0.000000     229.000000   270.000000              0.000000   \n",
              "max          21.000000     535.000000   543.000000            391.000000   \n",
              "\n",
              "                 adr  required_car_parking_spaces  total_of_special_requests  \n",
              "count  119390.000000                119390.000000              119390.000000  \n",
              "mean      101.831122                     0.062518                   0.571363  \n",
              "std        50.535790                     0.245291                   0.792798  \n",
              "min        -6.380000                     0.000000                   0.000000  \n",
              "25%        69.290000                     0.000000                   0.000000  \n",
              "50%        94.575000                     0.000000                   0.000000  \n",
              "75%       126.000000                     0.000000                   1.000000  \n",
              "max      5400.000000                     8.000000                   5.000000  "
            ],
            "text/html": [
              "\n",
              "  <div id=\"df-29e731a0-a24f-4dc5-a0d7-af20b3251650\">\n",
              "    <div class=\"colab-df-container\">\n",
              "      <div>\n",
              "<style scoped>\n",
              "    .dataframe tbody tr th:only-of-type {\n",
              "        vertical-align: middle;\n",
              "    }\n",
              "\n",
              "    .dataframe tbody tr th {\n",
              "        vertical-align: top;\n",
              "    }\n",
              "\n",
              "    .dataframe thead th {\n",
              "        text-align: right;\n",
              "    }\n",
              "</style>\n",
              "<table border=\"1\" class=\"dataframe\">\n",
              "  <thead>\n",
              "    <tr style=\"text-align: right;\">\n",
              "      <th></th>\n",
              "      <th>is_canceled</th>\n",
              "      <th>lead_time</th>\n",
              "      <th>arrival_date_year</th>\n",
              "      <th>arrival_date_week_number</th>\n",
              "      <th>arrival_date_day_of_month</th>\n",
              "      <th>stays_in_weekend_nights</th>\n",
              "      <th>stays_in_week_nights</th>\n",
              "      <th>adults</th>\n",
              "      <th>children</th>\n",
              "      <th>babies</th>\n",
              "      <th>is_repeated_guest</th>\n",
              "      <th>previous_cancellations</th>\n",
              "      <th>previous_bookings_not_canceled</th>\n",
              "      <th>booking_changes</th>\n",
              "      <th>agent</th>\n",
              "      <th>company</th>\n",
              "      <th>days_in_waiting_list</th>\n",
              "      <th>adr</th>\n",
              "      <th>required_car_parking_spaces</th>\n",
              "      <th>total_of_special_requests</th>\n",
              "    </tr>\n",
              "  </thead>\n",
              "  <tbody>\n",
              "    <tr>\n",
              "      <th>count</th>\n",
              "      <td>119390.000000</td>\n",
              "      <td>119390.000000</td>\n",
              "      <td>119390.000000</td>\n",
              "      <td>119390.000000</td>\n",
              "      <td>119390.000000</td>\n",
              "      <td>119390.000000</td>\n",
              "      <td>119390.000000</td>\n",
              "      <td>119390.000000</td>\n",
              "      <td>119386.000000</td>\n",
              "      <td>119390.000000</td>\n",
              "      <td>119390.000000</td>\n",
              "      <td>119390.000000</td>\n",
              "      <td>119390.000000</td>\n",
              "      <td>119390.000000</td>\n",
              "      <td>103050.000000</td>\n",
              "      <td>6797.000000</td>\n",
              "      <td>119390.000000</td>\n",
              "      <td>119390.000000</td>\n",
              "      <td>119390.000000</td>\n",
              "      <td>119390.000000</td>\n",
              "    </tr>\n",
              "    <tr>\n",
              "      <th>mean</th>\n",
              "      <td>0.370416</td>\n",
              "      <td>104.011416</td>\n",
              "      <td>2016.156554</td>\n",
              "      <td>27.165173</td>\n",
              "      <td>15.798241</td>\n",
              "      <td>0.927599</td>\n",
              "      <td>2.500302</td>\n",
              "      <td>1.856403</td>\n",
              "      <td>0.103890</td>\n",
              "      <td>0.007949</td>\n",
              "      <td>0.031912</td>\n",
              "      <td>0.087118</td>\n",
              "      <td>0.137097</td>\n",
              "      <td>0.221124</td>\n",
              "      <td>86.693382</td>\n",
              "      <td>189.266735</td>\n",
              "      <td>2.321149</td>\n",
              "      <td>101.831122</td>\n",
              "      <td>0.062518</td>\n",
              "      <td>0.571363</td>\n",
              "    </tr>\n",
              "    <tr>\n",
              "      <th>std</th>\n",
              "      <td>0.482918</td>\n",
              "      <td>106.863097</td>\n",
              "      <td>0.707476</td>\n",
              "      <td>13.605138</td>\n",
              "      <td>8.780829</td>\n",
              "      <td>0.998613</td>\n",
              "      <td>1.908286</td>\n",
              "      <td>0.579261</td>\n",
              "      <td>0.398561</td>\n",
              "      <td>0.097436</td>\n",
              "      <td>0.175767</td>\n",
              "      <td>0.844336</td>\n",
              "      <td>1.497437</td>\n",
              "      <td>0.652306</td>\n",
              "      <td>110.774548</td>\n",
              "      <td>131.655015</td>\n",
              "      <td>17.594721</td>\n",
              "      <td>50.535790</td>\n",
              "      <td>0.245291</td>\n",
              "      <td>0.792798</td>\n",
              "    </tr>\n",
              "    <tr>\n",
              "      <th>min</th>\n",
              "      <td>0.000000</td>\n",
              "      <td>0.000000</td>\n",
              "      <td>2015.000000</td>\n",
              "      <td>1.000000</td>\n",
              "      <td>1.000000</td>\n",
              "      <td>0.000000</td>\n",
              "      <td>0.000000</td>\n",
              "      <td>0.000000</td>\n",
              "      <td>0.000000</td>\n",
              "      <td>0.000000</td>\n",
              "      <td>0.000000</td>\n",
              "      <td>0.000000</td>\n",
              "      <td>0.000000</td>\n",
              "      <td>0.000000</td>\n",
              "      <td>1.000000</td>\n",
              "      <td>6.000000</td>\n",
              "      <td>0.000000</td>\n",
              "      <td>-6.380000</td>\n",
              "      <td>0.000000</td>\n",
              "      <td>0.000000</td>\n",
              "    </tr>\n",
              "    <tr>\n",
              "      <th>25%</th>\n",
              "      <td>0.000000</td>\n",
              "      <td>18.000000</td>\n",
              "      <td>2016.000000</td>\n",
              "      <td>16.000000</td>\n",
              "      <td>8.000000</td>\n",
              "      <td>0.000000</td>\n",
              "      <td>1.000000</td>\n",
              "      <td>2.000000</td>\n",
              "      <td>0.000000</td>\n",
              "      <td>0.000000</td>\n",
              "      <td>0.000000</td>\n",
              "      <td>0.000000</td>\n",
              "      <td>0.000000</td>\n",
              "      <td>0.000000</td>\n",
              "      <td>9.000000</td>\n",
              "      <td>62.000000</td>\n",
              "      <td>0.000000</td>\n",
              "      <td>69.290000</td>\n",
              "      <td>0.000000</td>\n",
              "      <td>0.000000</td>\n",
              "    </tr>\n",
              "    <tr>\n",
              "      <th>50%</th>\n",
              "      <td>0.000000</td>\n",
              "      <td>69.000000</td>\n",
              "      <td>2016.000000</td>\n",
              "      <td>28.000000</td>\n",
              "      <td>16.000000</td>\n",
              "      <td>1.000000</td>\n",
              "      <td>2.000000</td>\n",
              "      <td>2.000000</td>\n",
              "      <td>0.000000</td>\n",
              "      <td>0.000000</td>\n",
              "      <td>0.000000</td>\n",
              "      <td>0.000000</td>\n",
              "      <td>0.000000</td>\n",
              "      <td>0.000000</td>\n",
              "      <td>14.000000</td>\n",
              "      <td>179.000000</td>\n",
              "      <td>0.000000</td>\n",
              "      <td>94.575000</td>\n",
              "      <td>0.000000</td>\n",
              "      <td>0.000000</td>\n",
              "    </tr>\n",
              "    <tr>\n",
              "      <th>75%</th>\n",
              "      <td>1.000000</td>\n",
              "      <td>160.000000</td>\n",
              "      <td>2017.000000</td>\n",
              "      <td>38.000000</td>\n",
              "      <td>23.000000</td>\n",
              "      <td>2.000000</td>\n",
              "      <td>3.000000</td>\n",
              "      <td>2.000000</td>\n",
              "      <td>0.000000</td>\n",
              "      <td>0.000000</td>\n",
              "      <td>0.000000</td>\n",
              "      <td>0.000000</td>\n",
              "      <td>0.000000</td>\n",
              "      <td>0.000000</td>\n",
              "      <td>229.000000</td>\n",
              "      <td>270.000000</td>\n",
              "      <td>0.000000</td>\n",
              "      <td>126.000000</td>\n",
              "      <td>0.000000</td>\n",
              "      <td>1.000000</td>\n",
              "    </tr>\n",
              "    <tr>\n",
              "      <th>max</th>\n",
              "      <td>1.000000</td>\n",
              "      <td>737.000000</td>\n",
              "      <td>2017.000000</td>\n",
              "      <td>53.000000</td>\n",
              "      <td>31.000000</td>\n",
              "      <td>19.000000</td>\n",
              "      <td>50.000000</td>\n",
              "      <td>55.000000</td>\n",
              "      <td>10.000000</td>\n",
              "      <td>10.000000</td>\n",
              "      <td>1.000000</td>\n",
              "      <td>26.000000</td>\n",
              "      <td>72.000000</td>\n",
              "      <td>21.000000</td>\n",
              "      <td>535.000000</td>\n",
              "      <td>543.000000</td>\n",
              "      <td>391.000000</td>\n",
              "      <td>5400.000000</td>\n",
              "      <td>8.000000</td>\n",
              "      <td>5.000000</td>\n",
              "    </tr>\n",
              "  </tbody>\n",
              "</table>\n",
              "</div>\n",
              "      <button class=\"colab-df-convert\" onclick=\"convertToInteractive('df-29e731a0-a24f-4dc5-a0d7-af20b3251650')\"\n",
              "              title=\"Convert this dataframe to an interactive table.\"\n",
              "              style=\"display:none;\">\n",
              "        \n",
              "  <svg xmlns=\"http://www.w3.org/2000/svg\" height=\"24px\"viewBox=\"0 0 24 24\"\n",
              "       width=\"24px\">\n",
              "    <path d=\"M0 0h24v24H0V0z\" fill=\"none\"/>\n",
              "    <path d=\"M18.56 5.44l.94 2.06.94-2.06 2.06-.94-2.06-.94-.94-2.06-.94 2.06-2.06.94zm-11 1L8.5 8.5l.94-2.06 2.06-.94-2.06-.94L8.5 2.5l-.94 2.06-2.06.94zm10 10l.94 2.06.94-2.06 2.06-.94-2.06-.94-.94-2.06-.94 2.06-2.06.94z\"/><path d=\"M17.41 7.96l-1.37-1.37c-.4-.4-.92-.59-1.43-.59-.52 0-1.04.2-1.43.59L10.3 9.45l-7.72 7.72c-.78.78-.78 2.05 0 2.83L4 21.41c.39.39.9.59 1.41.59.51 0 1.02-.2 1.41-.59l7.78-7.78 2.81-2.81c.8-.78.8-2.07 0-2.86zM5.41 20L4 18.59l7.72-7.72 1.47 1.35L5.41 20z\"/>\n",
              "  </svg>\n",
              "      </button>\n",
              "      \n",
              "  <style>\n",
              "    .colab-df-container {\n",
              "      display:flex;\n",
              "      flex-wrap:wrap;\n",
              "      gap: 12px;\n",
              "    }\n",
              "\n",
              "    .colab-df-convert {\n",
              "      background-color: #E8F0FE;\n",
              "      border: none;\n",
              "      border-radius: 50%;\n",
              "      cursor: pointer;\n",
              "      display: none;\n",
              "      fill: #1967D2;\n",
              "      height: 32px;\n",
              "      padding: 0 0 0 0;\n",
              "      width: 32px;\n",
              "    }\n",
              "\n",
              "    .colab-df-convert:hover {\n",
              "      background-color: #E2EBFA;\n",
              "      box-shadow: 0px 1px 2px rgba(60, 64, 67, 0.3), 0px 1px 3px 1px rgba(60, 64, 67, 0.15);\n",
              "      fill: #174EA6;\n",
              "    }\n",
              "\n",
              "    [theme=dark] .colab-df-convert {\n",
              "      background-color: #3B4455;\n",
              "      fill: #D2E3FC;\n",
              "    }\n",
              "\n",
              "    [theme=dark] .colab-df-convert:hover {\n",
              "      background-color: #434B5C;\n",
              "      box-shadow: 0px 1px 3px 1px rgba(0, 0, 0, 0.15);\n",
              "      filter: drop-shadow(0px 1px 2px rgba(0, 0, 0, 0.3));\n",
              "      fill: #FFFFFF;\n",
              "    }\n",
              "  </style>\n",
              "\n",
              "      <script>\n",
              "        const buttonEl =\n",
              "          document.querySelector('#df-29e731a0-a24f-4dc5-a0d7-af20b3251650 button.colab-df-convert');\n",
              "        buttonEl.style.display =\n",
              "          google.colab.kernel.accessAllowed ? 'block' : 'none';\n",
              "\n",
              "        async function convertToInteractive(key) {\n",
              "          const element = document.querySelector('#df-29e731a0-a24f-4dc5-a0d7-af20b3251650');\n",
              "          const dataTable =\n",
              "            await google.colab.kernel.invokeFunction('convertToInteractive',\n",
              "                                                     [key], {});\n",
              "          if (!dataTable) return;\n",
              "\n",
              "          const docLinkHtml = 'Like what you see? Visit the ' +\n",
              "            '<a target=\"_blank\" href=https://colab.research.google.com/notebooks/data_table.ipynb>data table notebook</a>'\n",
              "            + ' to learn more about interactive tables.';\n",
              "          element.innerHTML = '';\n",
              "          dataTable['output_type'] = 'display_data';\n",
              "          await google.colab.output.renderOutput(dataTable, element);\n",
              "          const docLink = document.createElement('div');\n",
              "          docLink.innerHTML = docLinkHtml;\n",
              "          element.appendChild(docLink);\n",
              "        }\n",
              "      </script>\n",
              "    </div>\n",
              "  </div>\n",
              "  "
            ]
          },
          "metadata": {},
          "execution_count": 63
        }
      ]
    },
    {
      "cell_type": "code",
      "source": [
        "# Gives a list of columns\n",
        "\n",
        "list(hoteldb.columns)"
      ],
      "metadata": {
        "id": "n7VKYA4meDdX",
        "colab": {
          "base_uri": "https://localhost:8080/"
        },
        "outputId": "f6a638e5-c490-404f-e1be-e6d1243568a5"
      },
      "execution_count": null,
      "outputs": [
        {
          "output_type": "execute_result",
          "data": {
            "text/plain": [
              "['hotel',\n",
              " 'is_canceled',\n",
              " 'lead_time',\n",
              " 'arrival_date_year',\n",
              " 'arrival_date_month',\n",
              " 'arrival_date_week_number',\n",
              " 'arrival_date_day_of_month',\n",
              " 'stays_in_weekend_nights',\n",
              " 'stays_in_week_nights',\n",
              " 'adults',\n",
              " 'children',\n",
              " 'babies',\n",
              " 'meal',\n",
              " 'country',\n",
              " 'market_segment',\n",
              " 'distribution_channel',\n",
              " 'is_repeated_guest',\n",
              " 'previous_cancellations',\n",
              " 'previous_bookings_not_canceled',\n",
              " 'reserved_room_type',\n",
              " 'assigned_room_type',\n",
              " 'booking_changes',\n",
              " 'deposit_type',\n",
              " 'agent',\n",
              " 'company',\n",
              " 'days_in_waiting_list',\n",
              " 'customer_type',\n",
              " 'adr',\n",
              " 'required_car_parking_spaces',\n",
              " 'total_of_special_requests',\n",
              " 'reservation_status',\n",
              " 'reservation_status_date']"
            ]
          },
          "metadata": {},
          "execution_count": 64
        }
      ]
    },
    {
      "cell_type": "code",
      "source": [
        "#total rows and columns count\n",
        "\n",
        "hoteldb.shape"
      ],
      "metadata": {
        "id": "MDACnpvMc7Dv",
        "colab": {
          "base_uri": "https://localhost:8080/"
        },
        "outputId": "54c68bc2-667f-4af9-e21b-ceb876fbc44f"
      },
      "execution_count": null,
      "outputs": [
        {
          "output_type": "execute_result",
          "data": {
            "text/plain": [
              "(119390, 32)"
            ]
          },
          "metadata": {},
          "execution_count": 65
        }
      ]
    },
    {
      "cell_type": "code",
      "source": [
        "#Prints number of columns, column labels, column data types, memory usage, range index, and the number of cells in each column\n",
        "\n",
        "hoteldb.info()"
      ],
      "metadata": {
        "id": "BmTrCMyhc-VY",
        "colab": {
          "base_uri": "https://localhost:8080/"
        },
        "outputId": "88e0998c-3b8a-4bdd-8bcd-381347ffdc3b"
      },
      "execution_count": null,
      "outputs": [
        {
          "output_type": "stream",
          "name": "stdout",
          "text": [
            "<class 'pandas.core.frame.DataFrame'>\n",
            "RangeIndex: 119390 entries, 0 to 119389\n",
            "Data columns (total 32 columns):\n",
            " #   Column                          Non-Null Count   Dtype  \n",
            "---  ------                          --------------   -----  \n",
            " 0   hotel                           119390 non-null  object \n",
            " 1   is_canceled                     119390 non-null  int64  \n",
            " 2   lead_time                       119390 non-null  int64  \n",
            " 3   arrival_date_year               119390 non-null  int64  \n",
            " 4   arrival_date_month              119390 non-null  object \n",
            " 5   arrival_date_week_number        119390 non-null  int64  \n",
            " 6   arrival_date_day_of_month       119390 non-null  int64  \n",
            " 7   stays_in_weekend_nights         119390 non-null  int64  \n",
            " 8   stays_in_week_nights            119390 non-null  int64  \n",
            " 9   adults                          119390 non-null  int64  \n",
            " 10  children                        119386 non-null  float64\n",
            " 11  babies                          119390 non-null  int64  \n",
            " 12  meal                            119390 non-null  object \n",
            " 13  country                         118902 non-null  object \n",
            " 14  market_segment                  119390 non-null  object \n",
            " 15  distribution_channel            119390 non-null  object \n",
            " 16  is_repeated_guest               119390 non-null  int64  \n",
            " 17  previous_cancellations          119390 non-null  int64  \n",
            " 18  previous_bookings_not_canceled  119390 non-null  int64  \n",
            " 19  reserved_room_type              119390 non-null  object \n",
            " 20  assigned_room_type              119390 non-null  object \n",
            " 21  booking_changes                 119390 non-null  int64  \n",
            " 22  deposit_type                    119390 non-null  object \n",
            " 23  agent                           103050 non-null  float64\n",
            " 24  company                         6797 non-null    float64\n",
            " 25  days_in_waiting_list            119390 non-null  int64  \n",
            " 26  customer_type                   119390 non-null  object \n",
            " 27  adr                             119390 non-null  float64\n",
            " 28  required_car_parking_spaces     119390 non-null  int64  \n",
            " 29  total_of_special_requests       119390 non-null  int64  \n",
            " 30  reservation_status              119390 non-null  object \n",
            " 31  reservation_status_date         119390 non-null  object \n",
            "dtypes: float64(4), int64(16), object(12)\n",
            "memory usage: 29.1+ MB\n"
          ]
        }
      ]
    },
    {
      "cell_type": "code",
      "source": [
        "#checks Datatypes\n",
        "\n",
        "hoteldb.dtypes"
      ],
      "metadata": {
        "id": "nbvLKgeieVAw",
        "colab": {
          "base_uri": "https://localhost:8080/"
        },
        "outputId": "82b23f26-021d-4d8d-f6e3-945d4b92328c"
      },
      "execution_count": null,
      "outputs": [
        {
          "output_type": "execute_result",
          "data": {
            "text/plain": [
              "hotel                              object\n",
              "is_canceled                         int64\n",
              "lead_time                           int64\n",
              "arrival_date_year                   int64\n",
              "arrival_date_month                 object\n",
              "arrival_date_week_number            int64\n",
              "arrival_date_day_of_month           int64\n",
              "stays_in_weekend_nights             int64\n",
              "stays_in_week_nights                int64\n",
              "adults                              int64\n",
              "children                          float64\n",
              "babies                              int64\n",
              "meal                               object\n",
              "country                            object\n",
              "market_segment                     object\n",
              "distribution_channel               object\n",
              "is_repeated_guest                   int64\n",
              "previous_cancellations              int64\n",
              "previous_bookings_not_canceled      int64\n",
              "reserved_room_type                 object\n",
              "assigned_room_type                 object\n",
              "booking_changes                     int64\n",
              "deposit_type                       object\n",
              "agent                             float64\n",
              "company                           float64\n",
              "days_in_waiting_list                int64\n",
              "customer_type                      object\n",
              "adr                               float64\n",
              "required_car_parking_spaces         int64\n",
              "total_of_special_requests           int64\n",
              "reservation_status                 object\n",
              "reservation_status_date            object\n",
              "dtype: object"
            ]
          },
          "metadata": {},
          "execution_count": 67
        }
      ]
    },
    {
      "cell_type": "markdown",
      "source": [
        "## **FOR CHECKING UNIQUE CONTENTS**"
      ],
      "metadata": {
        "id": "7MbLRQKhqYLA"
      }
    },
    {
      "cell_type": "code",
      "source": [
        "hoteldb['hotel'].unique()"
      ],
      "metadata": {
        "id": "5E4Ok36hSUBU",
        "colab": {
          "base_uri": "https://localhost:8080/"
        },
        "outputId": "9971e2c6-c23c-4f77-e9f3-9db72193186b"
      },
      "execution_count": null,
      "outputs": [
        {
          "output_type": "execute_result",
          "data": {
            "text/plain": [
              "array(['Resort Hotel', 'City Hotel'], dtype=object)"
            ]
          },
          "metadata": {},
          "execution_count": 68
        }
      ]
    },
    {
      "cell_type": "code",
      "source": [
        "hoteldb['is_canceled'].unique()"
      ],
      "metadata": {
        "id": "SJmxoQTar1BW",
        "colab": {
          "base_uri": "https://localhost:8080/"
        },
        "outputId": "4aced151-a03c-4278-9800-06f09094ea4a"
      },
      "execution_count": null,
      "outputs": [
        {
          "output_type": "execute_result",
          "data": {
            "text/plain": [
              "array([0, 1])"
            ]
          },
          "metadata": {},
          "execution_count": 69
        }
      ]
    },
    {
      "cell_type": "code",
      "source": [
        "hoteldb['arrival_date_year'].unique()"
      ],
      "metadata": {
        "id": "ppXVKkcxsGJh",
        "colab": {
          "base_uri": "https://localhost:8080/"
        },
        "outputId": "934192a0-808d-4c88-973b-87af5144c540"
      },
      "execution_count": null,
      "outputs": [
        {
          "output_type": "execute_result",
          "data": {
            "text/plain": [
              "array([2015, 2016, 2017])"
            ]
          },
          "metadata": {},
          "execution_count": 70
        }
      ]
    },
    {
      "cell_type": "code",
      "source": [
        "hoteldb['meal'].unique()"
      ],
      "metadata": {
        "id": "ae-r_RijsMKm",
        "colab": {
          "base_uri": "https://localhost:8080/"
        },
        "outputId": "fb7ee4a2-bd0b-49fd-99df-73f46045ab50"
      },
      "execution_count": null,
      "outputs": [
        {
          "output_type": "execute_result",
          "data": {
            "text/plain": [
              "array(['BB', 'FB', 'HB', 'SC', 'Undefined'], dtype=object)"
            ]
          },
          "metadata": {},
          "execution_count": 71
        }
      ]
    },
    {
      "cell_type": "code",
      "source": [
        "hoteldb['market_segment'].unique()"
      ],
      "metadata": {
        "id": "VJ_Yat_lsSId",
        "colab": {
          "base_uri": "https://localhost:8080/"
        },
        "outputId": "6b376e17-dde5-495a-d363-8debae201cb1"
      },
      "execution_count": null,
      "outputs": [
        {
          "output_type": "execute_result",
          "data": {
            "text/plain": [
              "array(['Direct', 'Corporate', 'Online TA', 'Offline TA/TO',\n",
              "       'Complementary', 'Groups', 'Undefined', 'Aviation'], dtype=object)"
            ]
          },
          "metadata": {},
          "execution_count": 72
        }
      ]
    },
    {
      "cell_type": "code",
      "source": [
        "hoteldb['distribution_channel'].unique()"
      ],
      "metadata": {
        "id": "U6t5_x5TsXBL",
        "colab": {
          "base_uri": "https://localhost:8080/"
        },
        "outputId": "e2267e51-a736-4fec-91a6-df063177cd38"
      },
      "execution_count": null,
      "outputs": [
        {
          "output_type": "execute_result",
          "data": {
            "text/plain": [
              "array(['Direct', 'Corporate', 'TA/TO', 'Undefined', 'GDS'], dtype=object)"
            ]
          },
          "metadata": {},
          "execution_count": 73
        }
      ]
    },
    {
      "cell_type": "code",
      "source": [
        "hoteldb['children'].unique()"
      ],
      "metadata": {
        "id": "nUDT1nnFsdEh",
        "colab": {
          "base_uri": "https://localhost:8080/"
        },
        "outputId": "40e9e150-2bf9-45ce-8fcc-5bb5491b2f4f"
      },
      "execution_count": null,
      "outputs": [
        {
          "output_type": "execute_result",
          "data": {
            "text/plain": [
              "array([ 0.,  1.,  2., 10.,  3., nan])"
            ]
          },
          "metadata": {},
          "execution_count": 74
        }
      ]
    },
    {
      "cell_type": "markdown",
      "source": [
        "# **Now, we'll perform a quick check for missing/Null values**"
      ],
      "metadata": {
        "id": "0j70ce-Rd8mb"
      }
    },
    {
      "cell_type": "code",
      "source": [
        "#check for missing values\n",
        "\n",
        "hoteldb.isna().sum(axis = 0)"
      ],
      "metadata": {
        "id": "iOwSAH9GqllJ",
        "colab": {
          "base_uri": "https://localhost:8080/"
        },
        "outputId": "4b33f4e6-6ea3-4dd3-bd6c-7c7229914806"
      },
      "execution_count": null,
      "outputs": [
        {
          "output_type": "execute_result",
          "data": {
            "text/plain": [
              "hotel                                  0\n",
              "is_canceled                            0\n",
              "lead_time                              0\n",
              "arrival_date_year                      0\n",
              "arrival_date_month                     0\n",
              "arrival_date_week_number               0\n",
              "arrival_date_day_of_month              0\n",
              "stays_in_weekend_nights                0\n",
              "stays_in_week_nights                   0\n",
              "adults                                 0\n",
              "children                               4\n",
              "babies                                 0\n",
              "meal                                   0\n",
              "country                              488\n",
              "market_segment                         0\n",
              "distribution_channel                   0\n",
              "is_repeated_guest                      0\n",
              "previous_cancellations                 0\n",
              "previous_bookings_not_canceled         0\n",
              "reserved_room_type                     0\n",
              "assigned_room_type                     0\n",
              "booking_changes                        0\n",
              "deposit_type                           0\n",
              "agent                              16340\n",
              "company                           112593\n",
              "days_in_waiting_list                   0\n",
              "customer_type                          0\n",
              "adr                                    0\n",
              "required_car_parking_spaces            0\n",
              "total_of_special_requests              0\n",
              "reservation_status                     0\n",
              "reservation_status_date                0\n",
              "dtype: int64"
            ]
          },
          "metadata": {},
          "execution_count": 75
        }
      ]
    },
    {
      "cell_type": "code",
      "source": [
        "# visualize missing value using heatmap to get idea where is the value missing\n",
        "\n",
        "plt.figure(figsize=(16,9))\n",
        "sns.heatmap(hoteldb.isnull())"
      ],
      "metadata": {
        "id": "JV_0-p04KwGL",
        "colab": {
          "base_uri": "https://localhost:8080/"
        },
        "outputId": "2714a591-b28a-4e9d-8f4d-3e5fc0716a04"
      },
      "execution_count": null,
      "outputs": [
        {
          "output_type": "execute_result",
          "data": {
            "text/plain": [
              "<matplotlib.axes._subplots.AxesSubplot at 0x7fe70c9f3f10>"
            ]
          },
          "metadata": {},
          "execution_count": 76
        },
        {
          "output_type": "display_data",
          "data": {
            "text/plain": [
              "<Figure size 1152x648 with 2 Axes>"
            ],
            "image/png": "[encoded data removed]"
          },
          "metadata": {
            "needs_background": "light"
          }
        }
      ]
    },
    {
      "cell_type": "markdown",
      "source": [
        "## **Since, we can see agent, company and country are having most null values, we'll check what's in them**"
      ],
      "metadata": {
        "id": "nSN0TfwqeUhB"
      }
    },
    {
      "cell_type": "code",
      "source": [
        "#checking contents of agent column\n",
        "\n",
        "agentlist = hoteldb['agent'].tolist()\n",
        "#list(agentlist) #remove # to view its contents"
      ],
      "metadata": {
        "id": "pcNaK3ORfXsw"
      },
      "execution_count": null,
      "outputs": []
    },
    {
      "cell_type": "code",
      "source": [
        "#checking contents of company column\n",
        "\n",
        "companylist = hoteldb['company'].tolist()\n",
        "#list(companylist) #remove # to view its contents"
      ],
      "metadata": {
        "id": "GTCn8cA5gEHq"
      },
      "execution_count": null,
      "outputs": []
    },
    {
      "cell_type": "code",
      "source": [
        "#checking contents of country column\n",
        "\n",
        "countrylist = hoteldb['country'].tolist()\n",
        "#list(countrylist) #remove # to view its contents"
      ],
      "metadata": {
        "id": "7a8N3R3TgV2o"
      },
      "execution_count": null,
      "outputs": []
    },
    {
      "cell_type": "markdown",
      "source": [
        "# **Cleaning Data**"
      ],
      "metadata": {
        "id": "3Wuo1FEbO0d0"
      }
    },
    {
      "cell_type": "markdown",
      "source": [
        "**From the above data, it is clear that we won't be requiring agent and company data but we need country data and NULL values within it needs to be taken care of. So we'll be doing proper CLEANSING of data**"
      ],
      "metadata": {
        "id": "JELtrmuWg6-B"
      }
    },
    {
      "cell_type": "code",
      "source": [
        "#Removing company and agent column\n",
        "\n",
        "hoteldb= hoteldb.drop(columns=['agent', 'company'])\n",
        "\n",
        "#Removing missing values\n",
        "\n",
        "hoteldb = hoteldb.dropna()\n",
        "print(hoteldb.isna().sum(axis=0))"
      ],
      "metadata": {
        "id": "4ZwDJgpNq_4a",
        "colab": {
          "base_uri": "https://localhost:8080/"
        },
        "outputId": "eb14f3ae-bac6-45f2-9eef-9f952c670661"
      },
      "execution_count": null,
      "outputs": [
        {
          "output_type": "stream",
          "name": "stdout",
          "text": [
            "hotel                             0\n",
            "is_canceled                       0\n",
            "lead_time                         0\n",
            "arrival_date_year                 0\n",
            "arrival_date_month                0\n",
            "arrival_date_week_number          0\n",
            "arrival_date_day_of_month         0\n",
            "stays_in_weekend_nights           0\n",
            "stays_in_week_nights              0\n",
            "adults                            0\n",
            "children                          0\n",
            "babies                            0\n",
            "meal                              0\n",
            "country                           0\n",
            "market_segment                    0\n",
            "distribution_channel              0\n",
            "is_repeated_guest                 0\n",
            "previous_cancellations            0\n",
            "previous_bookings_not_canceled    0\n",
            "reserved_room_type                0\n",
            "assigned_room_type                0\n",
            "booking_changes                   0\n",
            "deposit_type                      0\n",
            "days_in_waiting_list              0\n",
            "customer_type                     0\n",
            "adr                               0\n",
            "required_car_parking_spaces       0\n",
            "total_of_special_requests         0\n",
            "reservation_status                0\n",
            "reservation_status_date           0\n",
            "dtype: int64\n"
          ]
        }
      ]
    },
    {
      "cell_type": "code",
      "source": [
        "# converting all the null values to 0 for proper analysis\n",
        "\n",
        "df = hoteldb.fillna(0)"
      ],
      "metadata": {
        "id": "D2EjOaovGM_G"
      },
      "execution_count": null,
      "outputs": []
    },
    {
      "cell_type": "code",
      "source": [
        "# how many null values left(will be depicted by 0)\n",
        "\n",
        "df.isnull().sum()"
      ],
      "metadata": {
        "id": "WQA3b65FGRMO",
        "colab": {
          "base_uri": "https://localhost:8080/"
        },
        "outputId": "7714e72f-0414-4a20-be6b-01bab6e04f72"
      },
      "execution_count": null,
      "outputs": [
        {
          "output_type": "execute_result",
          "data": {
            "text/plain": [
              "hotel                             0\n",
              "is_canceled                       0\n",
              "lead_time                         0\n",
              "arrival_date_year                 0\n",
              "arrival_date_month                0\n",
              "arrival_date_week_number          0\n",
              "arrival_date_day_of_month         0\n",
              "stays_in_weekend_nights           0\n",
              "stays_in_week_nights              0\n",
              "adults                            0\n",
              "children                          0\n",
              "babies                            0\n",
              "meal                              0\n",
              "country                           0\n",
              "market_segment                    0\n",
              "distribution_channel              0\n",
              "is_repeated_guest                 0\n",
              "previous_cancellations            0\n",
              "previous_bookings_not_canceled    0\n",
              "reserved_room_type                0\n",
              "assigned_room_type                0\n",
              "booking_changes                   0\n",
              "deposit_type                      0\n",
              "days_in_waiting_list              0\n",
              "customer_type                     0\n",
              "adr                               0\n",
              "required_car_parking_spaces       0\n",
              "total_of_special_requests         0\n",
              "reservation_status                0\n",
              "reservation_status_date           0\n",
              "dtype: int64"
            ]
          },
          "metadata": {},
          "execution_count": 82
        }
      ]
    },
    {
      "cell_type": "code",
      "source": [
        "# in country column, we need to replace zeros with something more adequate\n",
        "\n",
        "hoteldb.country = hoteldb.country.replace(0, \"not mentioned\")"
      ],
      "metadata": {
        "id": "o9xLV5vwGm--"
      },
      "execution_count": null,
      "outputs": []
    },
    {
      "cell_type": "markdown",
      "source": [
        "# **NOW WE HAVE CLEAN DATA FOR PROPER EDA**"
      ],
      "metadata": {
        "id": "ckFhckqZjjnh"
      }
    },
    {
      "cell_type": "markdown",
      "source": [
        "**Let's get basic idea of statistics through visualization**"
      ],
      "metadata": {
        "id": "vC31CdpJoUSp"
      }
    },
    {
      "cell_type": "markdown",
      "source": [
        "##**From the histograms below we can have a brief picture of various column trends**\n"
      ],
      "metadata": {
        "id": "HFwBFNuNuq5_"
      }
    },
    {
      "cell_type": "code",
      "source": [
        "# Printing a histogram which shows column trends which have data type int64\n",
        "hoteldb.hist(figsize=(20,14))\n",
        "plt.show()"
      ],
      "metadata": {
        "colab": {
          "base_uri": "https://localhost:8080/"
        },
        "id": "9Z6dhNYZup_A",
        "outputId": "a72cbd3e-5563-4ab0-926c-56fd9fc21a5a"
      },
      "execution_count": null,
      "outputs": [
        {
          "output_type": "display_data",
          "data": {
            "text/plain": [
              "<Figure size 1440x1008 with 20 Axes>"
            ],
            "image/png": "[encoded data removed]"
          },
          "metadata": {
            "needs_background": "light"
          }
        }
      ]
    },
    {
      "cell_type": "markdown",
      "source": [
        "## **Univariate Analysis**"
      ],
      "metadata": {
        "id": "XQ5_e6FVPUGi"
      }
    },
    {
      "cell_type": "markdown",
      "source": [
        "### Booking ratio of both hotels"
      ],
      "metadata": {
        "id": "nABAC1e2_amF"
      }
    },
    {
      "cell_type": "code",
      "source": [
        "# Booking ratio of both hotels\n",
        "\n",
        "dff=hoteldb['hotel'].value_counts()\n",
        "diagram=dff.plot(kind='pie', subplots=True, shadow = True,startangle=90,figsize=(10,5), autopct='%1.1f%%', title = 'Percentage of guests in both hotels' )"
      ],
      "metadata": {
        "colab": {
          "base_uri": "https://localhost:8080/"
        },
        "id": "V2p7UUuvnS66",
        "outputId": "3c028da7-38ec-4d6d-eaf3-e04079337e14"
      },
      "execution_count": null,
      "outputs": [
        {
          "output_type": "display_data",
          "data": {
            "text/plain": [
              "<Figure size 720x360 with 1 Axes>"
            ],
            "image/png": "[encoded data removed]"
          },
          "metadata": {}
        }
      ]
    },
    {
      "cell_type": "markdown",
      "source": [
        "Insight- \n",
        "1. City hotels have 66.7% ratio weightage and resort hotels have only 33.3%"
      ],
      "metadata": {
        "id": "mhCffPpkDVXv"
      }
    },
    {
      "cell_type": "markdown",
      "source": [
        "### Repeated guests ratio"
      ],
      "metadata": {
        "id": "j-CDMToY_f22"
      }
    },
    {
      "cell_type": "code",
      "source": [
        "# repeated guests ratio\n",
        "\n",
        "plt.pie(hoteldb[\"is_repeated_guest\"].value_counts(), labels=[\"New Guest\",\"Repeated Guest\"], autopct='%1.1f%%')\n",
        "plt.title (\"Proportion of Repeated Guests\")"
      ],
      "metadata": {
        "colab": {
          "base_uri": "https://localhost:8080/",
          "height": 336
        },
        "id": "XS38OqK38Xtb",
        "outputId": "b2e2bfa9-898f-449d-9d47-6bbbc81ab9cc"
      },
      "execution_count": null,
      "outputs": [
        {
          "output_type": "execute_result",
          "data": {
            "text/plain": [
              "Text(0.5, 1.0, 'Proportion of Repeated Guests')"
            ]
          },
          "metadata": {},
          "execution_count": 86
        },
        {
          "output_type": "display_data",
          "data": {
            "text/plain": [
              "<Figure size 720x360 with 1 Axes>"
            ],
            "image/png": "[encoded data removed]"
          },
          "metadata": {}
        }
      ]
    },
    {
      "cell_type": "markdown",
      "source": [
        "Insight-\n",
        "1. Retention rate of hotel is very low"
      ],
      "metadata": {
        "id": "6NHezDlux47h"
      }
    },
    {
      "cell_type": "markdown",
      "source": [
        "### Total number of arrival of guest per month"
      ],
      "metadata": {
        "id": "I4StB58hAijW"
      }
    },
    {
      "cell_type": "code",
      "source": [
        "# Total number of arrival of guest per month \n",
        "\n",
        "x = [\"January\", \"February\", \"March\", \"April\", \"May\", \"June\", \"July\", \"August\", \"September\", \"October\", \"November\", \"December\"]\n",
        "z = list(hoteldb[\"arrival_date_month\"].unique())\n",
        "y = []\n",
        "\n",
        "for i in x:\n",
        "  y.append(hoteldb[hoteldb.arrival_date_month == i][\"arrival_date_month\"].count())\n",
        "\n",
        "\n",
        "plt.figure(figsize=(11,5))\n",
        "plt.bar(x, y, color = sns.color_palette(),\n",
        "        width = 0.7)\n",
        "plt.xlabel(\"Months\")\n",
        "plt.xticks(rotation= \"vertical\")\n",
        "plt.ylabel(\"Number of arrivalsL\")\n",
        "plt.title(\"Total number of arrival of guest per month \")\n",
        "plt.show()"
      ],
      "metadata": {
        "colab": {
          "base_uri": "https://localhost:8080/"
        },
        "id": "h3bmFLoeHMsm",
        "outputId": "13e60dd2-d0e2-4ae3-cc7d-9a1bd71a0eaf"
      },
      "execution_count": null,
      "outputs": [
        {
          "output_type": "display_data",
          "data": {
            "text/plain": [
              "<Figure size 792x360 with 1 Axes>"
            ],
            "image/png": "[encoded data removed]"
          },
          "metadata": {
            "needs_background": "light"
          }
        }
      ]
    },
    {
      "cell_type": "markdown",
      "source": [
        "Insight- \n",
        "1. Most number of guest comes in month of August."
      ],
      "metadata": {
        "id": "r7rwDEwfxEsv"
      }
    },
    {
      "cell_type": "markdown",
      "source": [
        "### Top 10 Country's Tourist"
      ],
      "metadata": {
        "id": "KbTIRq4fApjL"
      }
    },
    {
      "cell_type": "code",
      "source": [
        "# Top 10 country's tourists\n",
        "\n",
        "df=hoteldb['country'].value_counts().head(10)\n",
        "df.plot(kind='bar',width=0.7 ,color=['b','g','r','c','m','y','k'],figsize=(15, 8))\n",
        "plt.xlabel(\"Countries\")\n",
        "plt.ylabel(\"Booking numbers\")\n",
        "plt.title(\"Top 10 countries' tourists \")\n",
        "plt.show()"
      ],
      "metadata": {
        "id": "QLhkwgeapOl6",
        "colab": {
          "base_uri": "https://localhost:8080/"
        },
        "outputId": "ae96910a-e921-40ce-c115-af29783bc35a"
      },
      "execution_count": null,
      "outputs": [
        {
          "output_type": "display_data",
          "data": {
            "text/plain": [
              "<Figure size 1080x576 with 1 Axes>"
            ],
            "image/png": "[encoded data removed]"
          },
          "metadata": {
            "needs_background": "light"
          }
        }
      ]
    },
    {
      "cell_type": "markdown",
      "source": [
        "Insight- \n",
        "1. Most guest are from Portugal and other Europian contries."
      ],
      "metadata": {
        "id": "BByG7zSixdZh"
      }
    },
    {
      "cell_type": "markdown",
      "source": [
        "### Most prefered meals"
      ],
      "metadata": {
        "id": "vYp47EigD99I"
      }
    },
    {
      "cell_type": "code",
      "source": [
        "# all types of meals\n",
        "\n",
        "hoteldb[\"meal\"].unique()"
      ],
      "metadata": {
        "colab": {
          "base_uri": "https://localhost:8080/"
        },
        "id": "tY4ZgAAhqDHC",
        "outputId": "aa31a86a-41d1-485c-c37e-cc0afbc0dcc6"
      },
      "execution_count": null,
      "outputs": [
        {
          "output_type": "execute_result",
          "data": {
            "text/plain": [
              "array(['BB', 'FB', 'HB', 'SC', 'Undefined'], dtype=object)"
            ]
          },
          "metadata": {},
          "execution_count": 89
        }
      ]
    },
    {
      "cell_type": "code",
      "source": [
        "# meal preference\n",
        "\n",
        "plt.figure(figsize=(10,8))\n",
        "sns.barplot(x=hoteldb['meal'].value_counts().keys(),y=hoteldb['meal'].value_counts())\n",
        "plt.xlabel('Type of food')\n",
        "plt.ylabel('Count')\n",
        "plt.title('Food preferred by guest');"
      ],
      "metadata": {
        "colab": {
          "base_uri": "https://localhost:8080/",
          "height": 513
        },
        "id": "RiKP_l-bIMrs",
        "outputId": "9af8afcf-8e91-4c9a-b683-80460768fc20"
      },
      "execution_count": null,
      "outputs": [
        {
          "output_type": "display_data",
          "data": {
            "text/plain": [
              "<Figure size 720x576 with 1 Axes>"
            ],
            "image/png": "[encoded data removed]"
          },
          "metadata": {
            "needs_background": "light"
          }
        }
      ]
    },
    {
      "cell_type": "markdown",
      "source": [
        "Insight- \n",
        "1. most preferred meal is BB and least preferred is FB."
      ],
      "metadata": {
        "id": "lvAAgX-8ElBb"
      }
    },
    {
      "cell_type": "markdown",
      "source": [
        "### Most preferred channel for booking hotels"
      ],
      "metadata": {
        "id": "6U1ZzstDEdN8"
      }
    },
    {
      "cell_type": "code",
      "source": [
        "# most preferred channel for booking hotels\n",
        "\n",
        "grup_by_dc = hoteldb.groupby(['distribution_channel'])\n",
        "dc1 = pd.DataFrame(round((grup_by_dc.size()/hoteldb.shape[0])*100,2)).reset_index().rename(columns = {0: 'Booking_%'})\n",
        "plt.figure(figsize=(12,6))\n",
        "data = dc1['Booking_%']\n",
        "labels = dc1['distribution_channel']\n",
        "plt.pie(x=data, autopct=\"%.2f%%\",  labels=labels, pctdistance=0.5)\n",
        "plt.title(\"Most preferred distribution channels\", fontsize=14);"
      ],
      "metadata": {
        "colab": {
          "base_uri": "https://localhost:8080/",
          "height": 374
        },
        "id": "kmw8ePg7anfs",
        "outputId": "fff5a872-8f71-42b3-a977-f8f0d5175035"
      },
      "execution_count": null,
      "outputs": [
        {
          "output_type": "display_data",
          "data": {
            "text/plain": [
              "<Figure size 864x432 with 1 Axes>"
            ],
            "image/png": "[encoded data removed]"
          },
          "metadata": {}
        }
      ]
    },
    {
      "cell_type": "markdown",
      "source": [
        "Insight- \n",
        "1. 82.2% booking were done from channel TA/TO(“TA” means “Travel Agents” and “TO” means “Tour Operators”)."
      ],
      "metadata": {
        "id": "RBYzf6uGEvCp"
      }
    },
    {
      "cell_type": "markdown",
      "source": [
        "## **Bivariate Analysis**\n"
      ],
      "metadata": {
        "id": "3-310NTBgC1n"
      }
    },
    {
      "cell_type": "markdown",
      "source": [
        "### Number of adults traveling with kids"
      ],
      "metadata": {
        "id": "FCBi2k9yFIvt"
      }
    },
    {
      "cell_type": "code",
      "source": [
        "# number of adults traveling with kids/babies\n",
        "\n",
        "x = [\"with kids\", \"without kids\"]\n",
        "y = [hoteldb[(hoteldb.children != 0) | (hoteldb.babies != 0)][\"adults\"].count(), hoteldb[(hoteldb.children == 0) | (hoteldb.babies == 0)][\"adults\"].count()]\n",
        "\n",
        "fig = plt.figure(figsize =(10, 7))\n",
        "colors = sns.color_palette('husl')\n",
        "plt.pie(y, labels = x, colors = colors,autopct='%1.1f%%')\n",
        "plt.title(\"Kids vs Without kids\")\n",
        "plt.show()"
      ],
      "metadata": {
        "id": "pjF7D5SiIJHf"
      },
      "execution_count": null,
      "outputs": []
    },
    {
      "cell_type": "markdown",
      "source": [
        "Insight- \n",
        "1. Maximum people are traveling without kids and only 7.3% of all guests are traveling with kids"
      ],
      "metadata": {
        "id": "PTn8D0MaGdix"
      }
    },
    {
      "cell_type": "markdown",
      "source": [
        "### Optimal stay length for city and resort type hotels."
      ],
      "metadata": {
        "id": "Fny9yWdQjeTT"
      }
    },
    {
      "cell_type": "code",
      "source": [
        "#creating copy to add new colum for operation\n",
        "hotels_df_copy=hoteldb.copy()\n",
        "\n",
        "# Adding total days of stay in hotels.\n",
        "hotels_df_copy['total_stay'] = hotels_df_copy['stays_in_weekend_nights']+hotels_df_copy['stays_in_week_nights']\n",
        "\n",
        "# Adding total number of guest as column.\n",
        "hotels_df_copy['total_people'] = hotels_df_copy['adults']+hotels_df_copy['children']+hotels_df_copy['babies']\n",
        "\n",
        "# Group by of total stay and hotel\n",
        "days_hotel = hotels_df_copy.groupby(['total_stay', 'hotel']).agg('count').reset_index()   \n",
        "days_hotel = days_hotel.iloc[:, :3]                                                   # take 1st 3 columns\n",
        "days_hotel = days_hotel.rename(columns={'total_stay': 'Number of days stayed' ,'is_canceled':'Number of stays'})\n",
        "\n",
        "days_hotel"
      ],
      "metadata": {
        "colab": {
          "base_uri": "https://localhost:8080/",
          "height": 424
        },
        "id": "IPKwZ8QAje8t",
        "outputId": "38c30ec6-afaf-4370-8002-f0dfcf6e4195"
      },
      "execution_count": null,
      "outputs": [
        {
          "output_type": "execute_result",
          "data": {
            "text/plain": [
              "    Number of days stayed         hotel  Number of stays\n",
              "0                       0    City Hotel              324\n",
              "1                       0  Resort Hotel              377\n",
              "2                       1    City Hotel            13271\n",
              "3                       1  Resort Hotel             7525\n",
              "4                       2    City Hotel            21424\n",
              "..                    ...           ...              ...\n",
              "69                     46  Resort Hotel                1\n",
              "70                     48    City Hotel                1\n",
              "71                     49    City Hotel                1\n",
              "72                     56  Resort Hotel                2\n",
              "73                     57    City Hotel                1\n",
              "\n",
              "[74 rows x 3 columns]"
            ],
            "text/html": [
              "\n",
              "  <div id=\"df-77a17593-b967-4be6-8468-60a22a13fbbe\">\n",
              "    <div class=\"colab-df-container\">\n",
              "      <div>\n",
              "<style scoped>\n",
              "    .dataframe tbody tr th:only-of-type {\n",
              "        vertical-align: middle;\n",
              "    }\n",
              "\n",
              "    .dataframe tbody tr th {\n",
              "        vertical-align: top;\n",
              "    }\n",
              "\n",
              "    .dataframe thead th {\n",
              "        text-align: right;\n",
              "    }\n",
              "</style>\n",
              "<table border=\"1\" class=\"dataframe\">\n",
              "  <thead>\n",
              "    <tr style=\"text-align: right;\">\n",
              "      <th></th>\n",
              "      <th>Number of days stayed</th>\n",
              "      <th>hotel</th>\n",
              "      <th>Number of stays</th>\n",
              "    </tr>\n",
              "  </thead>\n",
              "  <tbody>\n",
              "    <tr>\n",
              "      <th>0</th>\n",
              "      <td>0</td>\n",
              "      <td>City Hotel</td>\n",
              "      <td>324</td>\n",
              "    </tr>\n",
              "    <tr>\n",
              "      <th>1</th>\n",
              "      <td>0</td>\n",
              "      <td>Resort Hotel</td>\n",
              "      <td>377</td>\n",
              "    </tr>\n",
              "    <tr>\n",
              "      <th>2</th>\n",
              "      <td>1</td>\n",
              "      <td>City Hotel</td>\n",
              "      <td>13271</td>\n",
              "    </tr>\n",
              "    <tr>\n",
              "      <th>3</th>\n",
              "      <td>1</td>\n",
              "      <td>Resort Hotel</td>\n",
              "      <td>7525</td>\n",
              "    </tr>\n",
              "    <tr>\n",
              "      <th>4</th>\n",
              "      <td>2</td>\n",
              "      <td>City Hotel</td>\n",
              "      <td>21424</td>\n",
              "    </tr>\n",
              "    <tr>\n",
              "      <th>...</th>\n",
              "      <td>...</td>\n",
              "      <td>...</td>\n",
              "      <td>...</td>\n",
              "    </tr>\n",
              "    <tr>\n",
              "      <th>69</th>\n",
              "      <td>46</td>\n",
              "      <td>Resort Hotel</td>\n",
              "      <td>1</td>\n",
              "    </tr>\n",
              "    <tr>\n",
              "      <th>70</th>\n",
              "      <td>48</td>\n",
              "      <td>City Hotel</td>\n",
              "      <td>1</td>\n",
              "    </tr>\n",
              "    <tr>\n",
              "      <th>71</th>\n",
              "      <td>49</td>\n",
              "      <td>City Hotel</td>\n",
              "      <td>1</td>\n",
              "    </tr>\n",
              "    <tr>\n",
              "      <th>72</th>\n",
              "      <td>56</td>\n",
              "      <td>Resort Hotel</td>\n",
              "      <td>2</td>\n",
              "    </tr>\n",
              "    <tr>\n",
              "      <th>73</th>\n",
              "      <td>57</td>\n",
              "      <td>City Hotel</td>\n",
              "      <td>1</td>\n",
              "    </tr>\n",
              "  </tbody>\n",
              "</table>\n",
              "<p>74 rows × 3 columns</p>\n",
              "</div>\n",
              "      <button class=\"colab-df-convert\" onclick=\"convertToInteractive('df-77a17593-b967-4be6-8468-60a22a13fbbe')\"\n",
              "              title=\"Convert this dataframe to an interactive table.\"\n",
              "              style=\"display:none;\">\n",
              "        \n",
              "  <svg xmlns=\"http://www.w3.org/2000/svg\" height=\"24px\"viewBox=\"0 0 24 24\"\n",
              "       width=\"24px\">\n",
              "    <path d=\"M0 0h24v24H0V0z\" fill=\"none\"/>\n",
              "    <path d=\"M18.56 5.44l.94 2.06.94-2.06 2.06-.94-2.06-.94-.94-2.06-.94 2.06-2.06.94zm-11 1L8.5 8.5l.94-2.06 2.06-.94-2.06-.94L8.5 2.5l-.94 2.06-2.06.94zm10 10l.94 2.06.94-2.06 2.06-.94-2.06-.94-.94-2.06-.94 2.06-2.06.94z\"/><path d=\"M17.41 7.96l-1.37-1.37c-.4-.4-.92-.59-1.43-.59-.52 0-1.04.2-1.43.59L10.3 9.45l-7.72 7.72c-.78.78-.78 2.05 0 2.83L4 21.41c.39.39.9.59 1.41.59.51 0 1.02-.2 1.41-.59l7.78-7.78 2.81-2.81c.8-.78.8-2.07 0-2.86zM5.41 20L4 18.59l7.72-7.72 1.47 1.35L5.41 20z\"/>\n",
              "  </svg>\n",
              "      </button>\n",
              "      \n",
              "  <style>\n",
              "    .colab-df-container {\n",
              "      display:flex;\n",
              "      flex-wrap:wrap;\n",
              "      gap: 12px;\n",
              "    }\n",
              "\n",
              "    .colab-df-convert {\n",
              "      background-color: #E8F0FE;\n",
              "      border: none;\n",
              "      border-radius: 50%;\n",
              "      cursor: pointer;\n",
              "      display: none;\n",
              "      fill: #1967D2;\n",
              "      height: 32px;\n",
              "      padding: 0 0 0 0;\n",
              "      width: 32px;\n",
              "    }\n",
              "\n",
              "    .colab-df-convert:hover {\n",
              "      background-color: #E2EBFA;\n",
              "      box-shadow: 0px 1px 2px rgba(60, 64, 67, 0.3), 0px 1px 3px 1px rgba(60, 64, 67, 0.15);\n",
              "      fill: #174EA6;\n",
              "    }\n",
              "\n",
              "    [theme=dark] .colab-df-convert {\n",
              "      background-color: #3B4455;\n",
              "      fill: #D2E3FC;\n",
              "    }\n",
              "\n",
              "    [theme=dark] .colab-df-convert:hover {\n",
              "      background-color: #434B5C;\n",
              "      box-shadow: 0px 1px 3px 1px rgba(0, 0, 0, 0.15);\n",
              "      filter: drop-shadow(0px 1px 2px rgba(0, 0, 0, 0.3));\n",
              "      fill: #FFFFFF;\n",
              "    }\n",
              "  </style>\n",
              "\n",
              "      <script>\n",
              "        const buttonEl =\n",
              "          document.querySelector('#df-77a17593-b967-4be6-8468-60a22a13fbbe button.colab-df-convert');\n",
              "        buttonEl.style.display =\n",
              "          google.colab.kernel.accessAllowed ? 'block' : 'none';\n",
              "\n",
              "        async function convertToInteractive(key) {\n",
              "          const element = document.querySelector('#df-77a17593-b967-4be6-8468-60a22a13fbbe');\n",
              "          const dataTable =\n",
              "            await google.colab.kernel.invokeFunction('convertToInteractive',\n",
              "                                                     [key], {});\n",
              "          if (!dataTable) return;\n",
              "\n",
              "          const docLinkHtml = 'Like what you see? Visit the ' +\n",
              "            '<a target=\"_blank\" href=https://colab.research.google.com/notebooks/data_table.ipynb>data table notebook</a>'\n",
              "            + ' to learn more about interactive tables.';\n",
              "          element.innerHTML = '';\n",
              "          dataTable['output_type'] = 'display_data';\n",
              "          await google.colab.output.renderOutput(dataTable, element);\n",
              "          const docLink = document.createElement('div');\n",
              "          docLink.innerHTML = docLinkHtml;\n",
              "          element.appendChild(docLink);\n",
              "        }\n",
              "      </script>\n",
              "    </div>\n",
              "  </div>\n",
              "  "
            ]
          },
          "metadata": {},
          "execution_count": 96
        }
      ]
    },
    {
      "cell_type": "code",
      "source": [
        "# Plotting the graph\n",
        "\n",
        "# Setting figure size\n",
        "plt.figure(figsize=(15,10))\n",
        "\n",
        "# Plotting the graph\n",
        "sns.barplot(x='Number of days stayed',y='Number of stays',hue='hotel',data=days_hotel)"
      ],
      "metadata": {
        "colab": {
          "base_uri": "https://localhost:8080/",
          "height": 623
        },
        "id": "22KimnVmjo4v",
        "outputId": "89e8c5c7-95dc-432a-9ea5-8451b1954fbf"
      },
      "execution_count": null,
      "outputs": [
        {
          "output_type": "execute_result",
          "data": {
            "text/plain": [
              "<matplotlib.axes._subplots.AxesSubplot at 0x7fe70e18ffd0>"
            ]
          },
          "metadata": {},
          "execution_count": 97
        },
        {
          "output_type": "display_data",
          "data": {
            "text/plain": [
              "<Figure size 1080x720 with 1 Axes>"
            ],
            "image/png": "[encoded data removed]"
          },
          "metadata": {
            "needs_background": "light"
          }
        }
      ]
    },
    {
      "cell_type": "markdown",
      "source": [
        "Insight-\n",
        "1. Optiomal days for stay is less than 7 days."
      ],
      "metadata": {
        "id": "-Q7zuBa5jqnZ"
      }
    },
    {
      "cell_type": "markdown",
      "source": [
        "### Number of special requests made according to months"
      ],
      "metadata": {
        "id": "diH40mtFkaIB"
      }
    },
    {
      "cell_type": "code",
      "source": [
        "#To find number of special request for bookings made in different months.\n",
        "special_request_Vs_month=hoteldb.groupby('arrival_date_month')['total_of_special_requests'].sum().reindex(['January','February','March','April','May','June','July','August','September','October','November','December']).reset_index()\n",
        "special_request_Vs_month\n",
        "\n"
      ],
      "metadata": {
        "colab": {
          "base_uri": "https://localhost:8080/",
          "height": 426
        },
        "id": "Yu73YEoIke9h",
        "outputId": "76a6b153-ea1c-4c72-d8b5-ed7549490a65"
      },
      "execution_count": null,
      "outputs": [
        {
          "output_type": "execute_result",
          "data": {
            "text/plain": [
              "   arrival_date_month  total_of_special_requests\n",
              "0             January                       3223\n",
              "1            February                       4218\n",
              "2               March                       4852\n",
              "3               April                       5774\n",
              "4                 May                       6278\n",
              "5                June                       6167\n",
              "6                July                       8467\n",
              "7              August                      10193\n",
              "8           September                       5250\n",
              "9             October                       5491\n",
              "10           November                       3930\n",
              "11           December                       4129"
            ],
            "text/html": [
              "\n",
              "  <div id=\"df-eda8fba7-3f01-4a60-b0c1-afed073bed3d\">\n",
              "    <div class=\"colab-df-container\">\n",
              "      <div>\n",
              "<style scoped>\n",
              "    .dataframe tbody tr th:only-of-type {\n",
              "        vertical-align: middle;\n",
              "    }\n",
              "\n",
              "    .dataframe tbody tr th {\n",
              "        vertical-align: top;\n",
              "    }\n",
              "\n",
              "    .dataframe thead th {\n",
              "        text-align: right;\n",
              "    }\n",
              "</style>\n",
              "<table border=\"1\" class=\"dataframe\">\n",
              "  <thead>\n",
              "    <tr style=\"text-align: right;\">\n",
              "      <th></th>\n",
              "      <th>arrival_date_month</th>\n",
              "      <th>total_of_special_requests</th>\n",
              "    </tr>\n",
              "  </thead>\n",
              "  <tbody>\n",
              "    <tr>\n",
              "      <th>0</th>\n",
              "      <td>January</td>\n",
              "      <td>3223</td>\n",
              "    </tr>\n",
              "    <tr>\n",
              "      <th>1</th>\n",
              "      <td>February</td>\n",
              "      <td>4218</td>\n",
              "    </tr>\n",
              "    <tr>\n",
              "      <th>2</th>\n",
              "      <td>March</td>\n",
              "      <td>4852</td>\n",
              "    </tr>\n",
              "    <tr>\n",
              "      <th>3</th>\n",
              "      <td>April</td>\n",
              "      <td>5774</td>\n",
              "    </tr>\n",
              "    <tr>\n",
              "      <th>4</th>\n",
              "      <td>May</td>\n",
              "      <td>6278</td>\n",
              "    </tr>\n",
              "    <tr>\n",
              "      <th>5</th>\n",
              "      <td>June</td>\n",
              "      <td>6167</td>\n",
              "    </tr>\n",
              "    <tr>\n",
              "      <th>6</th>\n",
              "      <td>July</td>\n",
              "      <td>8467</td>\n",
              "    </tr>\n",
              "    <tr>\n",
              "      <th>7</th>\n",
              "      <td>August</td>\n",
              "      <td>10193</td>\n",
              "    </tr>\n",
              "    <tr>\n",
              "      <th>8</th>\n",
              "      <td>September</td>\n",
              "      <td>5250</td>\n",
              "    </tr>\n",
              "    <tr>\n",
              "      <th>9</th>\n",
              "      <td>October</td>\n",
              "      <td>5491</td>\n",
              "    </tr>\n",
              "    <tr>\n",
              "      <th>10</th>\n",
              "      <td>November</td>\n",
              "      <td>3930</td>\n",
              "    </tr>\n",
              "    <tr>\n",
              "      <th>11</th>\n",
              "      <td>December</td>\n",
              "      <td>4129</td>\n",
              "    </tr>\n",
              "  </tbody>\n",
              "</table>\n",
              "</div>\n",
              "      <button class=\"colab-df-convert\" onclick=\"convertToInteractive('df-eda8fba7-3f01-4a60-b0c1-afed073bed3d')\"\n",
              "              title=\"Convert this dataframe to an interactive table.\"\n",
              "              style=\"display:none;\">\n",
              "        \n",
              "  <svg xmlns=\"http://www.w3.org/2000/svg\" height=\"24px\"viewBox=\"0 0 24 24\"\n",
              "       width=\"24px\">\n",
              "    <path d=\"M0 0h24v24H0V0z\" fill=\"none\"/>\n",
              "    <path d=\"M18.56 5.44l.94 2.06.94-2.06 2.06-.94-2.06-.94-.94-2.06-.94 2.06-2.06.94zm-11 1L8.5 8.5l.94-2.06 2.06-.94-2.06-.94L8.5 2.5l-.94 2.06-2.06.94zm10 10l.94 2.06.94-2.06 2.06-.94-2.06-.94-.94-2.06-.94 2.06-2.06.94z\"/><path d=\"M17.41 7.96l-1.37-1.37c-.4-.4-.92-.59-1.43-.59-.52 0-1.04.2-1.43.59L10.3 9.45l-7.72 7.72c-.78.78-.78 2.05 0 2.83L4 21.41c.39.39.9.59 1.41.59.51 0 1.02-.2 1.41-.59l7.78-7.78 2.81-2.81c.8-.78.8-2.07 0-2.86zM5.41 20L4 18.59l7.72-7.72 1.47 1.35L5.41 20z\"/>\n",
              "  </svg>\n",
              "      </button>\n",
              "      \n",
              "  <style>\n",
              "    .colab-df-container {\n",
              "      display:flex;\n",
              "      flex-wrap:wrap;\n",
              "      gap: 12px;\n",
              "    }\n",
              "\n",
              "    .colab-df-convert {\n",
              "      background-color: #E8F0FE;\n",
              "      border: none;\n",
              "      border-radius: 50%;\n",
              "      cursor: pointer;\n",
              "      display: none;\n",
              "      fill: #1967D2;\n",
              "      height: 32px;\n",
              "      padding: 0 0 0 0;\n",
              "      width: 32px;\n",
              "    }\n",
              "\n",
              "    .colab-df-convert:hover {\n",
              "      background-color: #E2EBFA;\n",
              "      box-shadow: 0px 1px 2px rgba(60, 64, 67, 0.3), 0px 1px 3px 1px rgba(60, 64, 67, 0.15);\n",
              "      fill: #174EA6;\n",
              "    }\n",
              "\n",
              "    [theme=dark] .colab-df-convert {\n",
              "      background-color: #3B4455;\n",
              "      fill: #D2E3FC;\n",
              "    }\n",
              "\n",
              "    [theme=dark] .colab-df-convert:hover {\n",
              "      background-color: #434B5C;\n",
              "      box-shadow: 0px 1px 3px 1px rgba(0, 0, 0, 0.15);\n",
              "      filter: drop-shadow(0px 1px 2px rgba(0, 0, 0, 0.3));\n",
              "      fill: #FFFFFF;\n",
              "    }\n",
              "  </style>\n",
              "\n",
              "      <script>\n",
              "        const buttonEl =\n",
              "          document.querySelector('#df-eda8fba7-3f01-4a60-b0c1-afed073bed3d button.colab-df-convert');\n",
              "        buttonEl.style.display =\n",
              "          google.colab.kernel.accessAllowed ? 'block' : 'none';\n",
              "\n",
              "        async function convertToInteractive(key) {\n",
              "          const element = document.querySelector('#df-eda8fba7-3f01-4a60-b0c1-afed073bed3d');\n",
              "          const dataTable =\n",
              "            await google.colab.kernel.invokeFunction('convertToInteractive',\n",
              "                                                     [key], {});\n",
              "          if (!dataTable) return;\n",
              "\n",
              "          const docLinkHtml = 'Like what you see? Visit the ' +\n",
              "            '<a target=\"_blank\" href=https://colab.research.google.com/notebooks/data_table.ipynb>data table notebook</a>'\n",
              "            + ' to learn more about interactive tables.';\n",
              "          element.innerHTML = '';\n",
              "          dataTable['output_type'] = 'display_data';\n",
              "          await google.colab.output.renderOutput(dataTable, element);\n",
              "          const docLink = document.createElement('div');\n",
              "          docLink.innerHTML = docLinkHtml;\n",
              "          element.appendChild(docLink);\n",
              "        }\n",
              "      </script>\n",
              "    </div>\n",
              "  </div>\n",
              "  "
            ]
          },
          "metadata": {},
          "execution_count": 100
        }
      ]
    },
    {
      "cell_type": "code",
      "source": [
        "special_request_Vs_month.plot.line(\"arrival_date_month\", \"total_of_special_requests\")"
      ],
      "metadata": {
        "colab": {
          "base_uri": "https://localhost:8080/",
          "height": 352
        },
        "id": "6W0MPLUQnQem",
        "outputId": "31d5cf6a-df0f-4cdd-fced-6989eb30eb9a"
      },
      "execution_count": null,
      "outputs": [
        {
          "output_type": "execute_result",
          "data": {
            "text/plain": [
              "<matplotlib.axes._subplots.AxesSubplot at 0x7fe70e19cf90>"
            ]
          },
          "metadata": {},
          "execution_count": 103
        },
        {
          "output_type": "display_data",
          "data": {
            "text/plain": [
              "<Figure size 720x360 with 1 Axes>"
            ],
            "image/png": "[encoded data removed]"
          },
          "metadata": {
            "needs_background": "light"
          }
        }
      ]
    },
    {
      "cell_type": "markdown",
      "source": [
        "Insight- \n",
        "1. Maximum number of special requests are made between july and september.\n",
        "2. Least requests are in january.\n",
        "3. we can state that it depends on number of guests arrival."
      ],
      "metadata": {
        "id": "9y2JXvR0oRdV"
      }
    },
    {
      "cell_type": "markdown",
      "source": [
        "### Number of stays in week nights vs Weekend nights."
      ],
      "metadata": {
        "id": "tPjZ0PKIFOgE"
      }
    },
    {
      "cell_type": "code",
      "source": [
        "#To find number of stays in week nights and weekend nights.\n",
        "\n",
        "week_and_weekend_stay=hoteldb[['stays_in_weekend_nights','stays_in_week_nights']].sum().reset_index().rename(columns={'index':'time of week',0:'stays'})\n",
        "week_and_weekend_stay"
      ],
      "metadata": {
        "id": "YG-QIa75MWPK"
      },
      "execution_count": null,
      "outputs": []
    },
    {
      "cell_type": "code",
      "source": [
        "#Plotting number of week night and weekend nights on a bar chart\n",
        "\n",
        "plt.barh(week_and_weekend_stay['time of week'],week_and_weekend_stay['stays'],color='green',edgecolor='black',height=0.9)\n",
        "plt.title('Number of stay in weekend vs weekdays')\n",
        "plt.ylabel('Time of the week')\n",
        "plt.xlabel('Nights of stay')"
      ],
      "metadata": {
        "colab": {
          "base_uri": "https://localhost:8080/",
          "height": 367
        },
        "id": "UcyZsyL_NZSR",
        "outputId": "61f0026d-53a7-4fa9-9d0f-97b4ffe731a3"
      },
      "execution_count": null,
      "outputs": [
        {
          "output_type": "execute_result",
          "data": {
            "text/plain": [
              "Text(0.5, 0, 'Nights of stay')"
            ]
          },
          "metadata": {},
          "execution_count": 99
        },
        {
          "output_type": "display_data",
          "data": {
            "text/plain": [
              "<Figure size 720x360 with 1 Axes>"
            ],
            "image/png": "[encoded data removed]"
          },
          "metadata": {
            "needs_background": "light"
          }
        }
      ]
    },
    {
      "cell_type": "markdown",
      "source": [
        "Insight- \n",
        "1. As shown 110444 stay days were booked on week days and only 297500 stay days were booked on weekends."
      ],
      "metadata": {
        "id": "82PG9mfWFV3r"
      }
    },
    {
      "cell_type": "markdown",
      "source": [
        "### Bookings made through three main market segments from diffrent countries."
      ],
      "metadata": {
        "id": "Q9gsqUhOFkJs"
      }
    },
    {
      "cell_type": "code",
      "source": [
        "#Plotting bookings made through three main market segments by different countries' \n",
        "\n",
        "market_segment_by_country=hoteldb.groupby(['country','market_segment'])['market_segment'].count().unstack().sort_values('Direct',ascending=False).head(10)\n",
        "market_segment_by_country[['Direct','Offline TA/TO','Online TA']].plot(kind='bar',width=0.8)\n",
        "plt.title('Bookings made by different market segments according to countries')\n",
        "plt.xlabel('Countries')\n",
        "plt.ylabel('Number of bookings')\n",
        "plt.rcParams['figure.figsize'] = (10, 5)\n"
      ],
      "metadata": {
        "id": "SSPJdx4xONDE"
      },
      "execution_count": null,
      "outputs": []
    },
    {
      "cell_type": "markdown",
      "source": [
        "Insight-\n",
        "1.  On average 'Online TA' is the most preferred channel and on average least preferred is 'Direct' channel. \n",
        "2. Maximum bookings are from Portugal country, followed by country GRB(United kingdom)\n"
      ],
      "metadata": {
        "id": "Qluy6e96FwRk"
      }
    },
    {
      "cell_type": "markdown",
      "source": [
        "### Plotting in demand room and which room type genrates high ADR"
      ],
      "metadata": {
        "id": "SwuZdUpoHxN1"
      }
    },
    {
      "cell_type": "code",
      "source": [
        "# Plotting in demand room and which room type genrate high ADR\n",
        "\n",
        "fig, axes = plt.subplots(1, 2, figsize=(18,6))\n",
        "\n",
        "grp_by_room = hoteldb.groupby('assigned_room_type')\n",
        "hoteldb['Num_of_bookings'] = grp_by_room.size()\n",
        "\n",
        "sns.countplot(ax = axes[0], x = hoteldb['assigned_room_type'])                      # plotting in demand room\n",
        "sns.boxplot(ax = axes[1], x = hoteldb['assigned_room_type'], y = hoteldb['adr'])    # pl0tting high adr genrating room\n",
        "plt.show()"
      ],
      "metadata": {
        "id": "YuZl1AzhbPQV"
      },
      "execution_count": null,
      "outputs": []
    },
    {
      "cell_type": "markdown",
      "source": [
        "Insoght- \n",
        "1. We can see that 'A' type room is most in demand but on contrary room type 'H', 'G' and 'F' are most adr genrating rooms respectively"
      ],
      "metadata": {
        "id": "sz36wofSxWFr"
      }
    },
    {
      "cell_type": "markdown",
      "source": [
        "### Cancellation ration in both hotels type.(city hotel and resort hotel)"
      ],
      "metadata": {
        "id": "935_GdGOIssZ"
      }
    },
    {
      "cell_type": "code",
      "source": [
        "#cancellation count\n",
        "\n",
        "resort_cancellation=hoteldb[hoteldb[\"hotel\"]==\"Resort Hotel\"][\"is_canceled\"].value_counts()\n",
        "city_cancellation=hoteldb[hoteldb['hotel']=='City Hotel'][\"is_canceled\"].value_counts()\n",
        "total_cancel=hoteldb['is_canceled'].value_counts()"
      ],
      "metadata": {
        "id": "KpIDdsid71WM"
      },
      "execution_count": null,
      "outputs": []
    },
    {
      "cell_type": "code",
      "source": [
        "#cancellations ratio in resort hotels\n",
        "\n",
        "plt.pie(resort_cancellation,labels=[\"Not Canceled\",\"Canceled\"],autopct='%1.1f%%')\n",
        "plt.title(\"Resort Hotel\", fontsize=20)\n"
      ],
      "metadata": {
        "id": "QFFKVvMy8Etb"
      },
      "execution_count": null,
      "outputs": []
    },
    {
      "cell_type": "markdown",
      "source": [
        "Insight-\n",
        "1. Resort hotels get 28% cancellation and 72% confirm booking out of all bookings."
      ],
      "metadata": {
        "id": "VhKVtl6yb3aL"
      }
    },
    {
      "cell_type": "code",
      "source": [
        "#Cancellations ratio in city hotels\n",
        "\n",
        "plt.pie(city_cancellation,labels=[\"Not Canceled\",\"Canceled\"],autopct='%1.1f%%')\n",
        "plt.title(\"City Hotel\", fontsize=20)\n"
      ],
      "metadata": {
        "id": "VV-HkS3Q8fHE"
      },
      "execution_count": null,
      "outputs": []
    },
    {
      "cell_type": "markdown",
      "source": [
        "Insight-\n",
        "1. City hotels get 41.7% cancellation and 58.3% confirm booking out of all bookings."
      ],
      "metadata": {
        "id": "eys5eP-4cISf"
      }
    },
    {
      "cell_type": "markdown",
      "source": [
        "## **Multivariate Analysis**"
      ],
      "metadata": {
        "id": "wKqwNDHihAiT"
      }
    },
    {
      "cell_type": "markdown",
      "source": [
        "### Correlation Analysis"
      ],
      "metadata": {
        "id": "I8-15SNDseWg"
      }
    },
    {
      "cell_type": "code",
      "source": [
        "correlation = hoteldb.corr()\n",
        "correlation"
      ],
      "metadata": {
        "id": "0U58XNOdsiJI"
      },
      "execution_count": null,
      "outputs": []
    },
    {
      "cell_type": "code",
      "source": [
        "# correlation graph of the data using heatmap\n",
        "\n",
        "fig, ax = plt.subplots(figsize=(20,8))\n",
        "dataplot = sns.heatmap(hoteldb.corr(), cmap=\"hsv\", annot=True, linewidths=.5)\n",
        "plt.show()"
      ],
      "metadata": {
        "id": "BPVjdulKwlCj"
      },
      "execution_count": null,
      "outputs": []
    },
    {
      "cell_type": "markdown",
      "source": [
        "Insights- \n",
        "\n",
        "1. ADR(Average Daily Rate) and guests with children have slight positive corelation. which means more the kids, more is the ADR.\n",
        "\n",
        "2. Total_stay and lead time have slight correlation.\n",
        "\n",
        "3. Adr(Average Daily Rate) is positively correlated with total guests. more the guest will generate more ADR\n",
        "\n",
        "4.  Repeated guests and previous bookings not canceled has strong positive correlation. Repeated guests are more likely to not cancel their bookings.\n",
        "\n",
        "5. Company and agents are slightly more correlated\n",
        "\n",
        "6. Stays in week night and total stay are positively corelated, even more than weekend nights which says, longer stays are in week time only.\n",
        "\n",
        "7.  lead_time and total_stay is positively corelated. That means more is the stay of customer more will be the lead time.\n",
        "\n",
        "8.  Total people, total stay and  ADR has positive correlation which means more the people, longer the stay will give more revenue.\n"
      ],
      "metadata": {
        "id": "C1YA_GSPsuE_"
      }
    },
    {
      "cell_type": "markdown",
      "source": [
        "### Requirement of car parking spaces- year and month wise"
      ],
      "metadata": {
        "id": "1fm_bE7AvO1f"
      }
    },
    {
      "cell_type": "code",
      "source": [
        "#Creating a line chart to express the relation between the required number of car parking spaces and year by using seaborn\n",
        "\n",
        "plt.figure(figsize=(14,5))\n",
        "sns.lineplot(data=hoteldb,x=\"arrival_date_month\", y=\"required_car_parking_spaces\", hue = 'arrival_date_year', palette= 'Set2')\n",
        "plt.legend(['2015', '2016', '2017'])\n",
        "plt.title(\"Year wise parking requirements of hotels \", fontsize = 18)\n",
        "plt.ylabel(\"Number of car parking spaces required\",fontsize = 15)\n",
        "plt.xlabel(\"Months\",fontsize = 15)"
      ],
      "metadata": {
        "id": "ocAHwlE8vUwx"
      },
      "execution_count": null,
      "outputs": []
    },
    {
      "cell_type": "markdown",
      "source": [
        "Insights-\n",
        "1. We can see in 2015-most parking spaces were needed in november and least in september. \n",
        "2. In 2016- most parking spaces were needed in january and least in november.\n",
        "3. In 2017 most parking spaces were needed in january and least in may."
      ],
      "metadata": {
        "id": "wiea-x3cLby4"
      }
    },
    {
      "cell_type": "markdown",
      "source": [
        "### Average daily rates(ADR) Monthwise."
      ],
      "metadata": {
        "id": "_iCzuGE7JISd"
      }
    },
    {
      "cell_type": "code",
      "source": [
        "#average daily rate monthwise = rooms revenue / rooms sold\n",
        "\n",
        "plt.figure(figsize=(12,6))\n",
        "sns.lineplot(x = \"arrival_date_month\", y=\"adr\", hue=\"hotel\", data=hoteldb,\n",
        "             hue_order = [\"City Hotel\", \"Resort Hotel\"],palette= 'Set2',linewidth = 4)\n",
        "\n",
        "plt.title(\"Monthwise ADR\")\n",
        "plt.xlabel(\"arrival Month\")\n",
        "plt.ylabel(\"average daily rate\")\n",
        "plt.show()"
      ],
      "metadata": {
        "id": "ViG0RegJpcdA"
      },
      "execution_count": null,
      "outputs": []
    },
    {
      "cell_type": "markdown",
      "source": [
        "Insights- \n",
        "1. By comparing the \"Total number of arrival of guest per month\" chart with \"Monthwise ADR\" chart we can see that as the no. of guest increases ADR increases respectively."
      ],
      "metadata": {
        "id": "OwiHbAuLyk1C"
      }
    },
    {
      "cell_type": "markdown",
      "source": [
        "### How does length of stay affects the ADR"
      ],
      "metadata": {
        "id": "3Mdf_s-FtJt4"
      }
    },
    {
      "cell_type": "code",
      "source": [
        "# Adding total staying days in hotels\n",
        "hoteldb['total_stay'] = hoteldb['stays_in_weekend_nights']+hoteldb['stays_in_week_nights']\n",
        "\n",
        "# Adding total people num as column.\n",
        "hoteldb['total_people'] = hoteldb['adults']+hoteldb['children']+hoteldb['babies']"
      ],
      "metadata": {
        "id": "8w_jZWfutrmP"
      },
      "execution_count": null,
      "outputs": []
    },
    {
      "cell_type": "code",
      "source": [
        "plt.figure(figsize = (12,6))\n",
        "sns.scatterplot(y = 'adr', x = 'total_stay', data = hoteldb)\n",
        "plt.show()"
      ],
      "metadata": {
        "id": "myjQrAjHtMjX"
      },
      "execution_count": null,
      "outputs": []
    },
    {
      "cell_type": "code",
      "source": [
        "hoteldb.drop(hoteldb[hoteldb['adr'] > 5000].index, inplace = True)   # there is an outlier in adr, so we removed that for better scatter plot"
      ],
      "metadata": {
        "id": "H21e6UW8uTAX"
      },
      "execution_count": null,
      "outputs": []
    },
    {
      "cell_type": "code",
      "source": [
        "plt.figure(figsize = (12,6))\n",
        "sns.scatterplot(y = 'adr', x = 'total_stay', data = hoteldb)\n",
        "plt.show()"
      ],
      "metadata": {
        "id": "wICWA86Eubun"
      },
      "execution_count": null,
      "outputs": []
    },
    {
      "cell_type": "markdown",
      "source": [
        "Insight- \n",
        "1. From this we can see that as the length of stay increases adr decreases."
      ],
      "metadata": {
        "id": "-5vi_24wxPiO"
      }
    },
    {
      "cell_type": "markdown",
      "source": [
        "### Distribution channel with better revenue generating deals for hotels."
      ],
      "metadata": {
        "id": "qAsOGGoiMXsm"
      }
    },
    {
      "cell_type": "code",
      "source": [
        "# distribution channel with better revenue generating deals for hotels\n",
        "\n",
        "group_by_dc_hotel = hoteldb.groupby(['distribution_channel', 'hotel'])\n",
        "d4 = pd.DataFrame(round((group_by_dc_hotel['adr']).agg(np.mean),2)).reset_index().rename(columns = {'adr': 'avg_adr'})\n",
        "plt.figure(figsize = (8,6))\n",
        "sns.barplot(x = d4['distribution_channel'], y = d4['avg_adr'], hue = d4['hotel'])\n",
        "plt.ylim(20,150)\n",
        "plt.show()"
      ],
      "metadata": {
        "id": "QYFZzW-va67q"
      },
      "execution_count": null,
      "outputs": []
    },
    {
      "cell_type": "markdown",
      "source": [
        "Insight-\n",
        "\n",
        "1. GDS channel brings higher revenue generating deals for City hotel, in contrast to that most bookings come via TA/TO. City Hotel can work to increase outreach on GDS channels to get more higher revenue generating deals.\n",
        "\n",
        "2. Resort hotel has more revnue generating deals by direct and TA/TO channel. \n",
        "\n",
        "3. Resort Hotel need to increase outreach on GDS channel to increase revenue"
      ],
      "metadata": {
        "id": "rkBIUF8Mw3Bd"
      }
    },
    {
      "cell_type": "markdown",
      "source": [
        "# **CONCLUSION**\n",
        "\n",
        "After careful analysis , we can conclude that the hotel industry can benefit a lot by studying the type of customers, their booking mode, the booking month and the seasons. The hotel industry market, their ADR and bookings are based on the type of customers,the month, types of meal, hotel type ,their country of origin, Room types, booking medium and many others.\n"
      ],
      "metadata": {
        "id": "Gmz00xfu09mn"
      }
    },
    {
      "cell_type": "markdown",
      "source": [
        "# **SUGGESTIONS**\n",
        "\n",
        "1. The hotel industry can take the advantage of seasons and months as ADR was highest in august (rainy season).\n",
        "2. Most customers booked rooms online so they can be targeted with proper seasonal discounts and vacay-ads.\n",
        "3. Since ADR was least during Nov and Jan, winter discounts(assumption) or off season discounts might help. \n",
        "4. For retention, they should introduce portugese meals(sea foods and meat) and eastern european meals as guests are more from there.\n",
        "5. They should encourage direct bookings by offering some special discounts as online bookings cancellation is high.\n",
        "6. Since room A is booked more, they should take into account the factors how it is different from other rooms and implement the same in other rooms as well.\n",
        "7. Since resort hotels are less preferred, they should look into the factors- might be High cost or guests requirements. \n"
      ],
      "metadata": {
        "id": "XUki1w7H1AJ_"
      }
    }
  ]
}