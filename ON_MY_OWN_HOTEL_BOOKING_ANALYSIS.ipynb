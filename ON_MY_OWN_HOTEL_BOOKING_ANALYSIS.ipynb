{
  "cells": [
    {
      "cell_type": "markdown",
      "metadata": {
        "id": "view-in-github",
        "colab_type": "text"
      },
      "source": [
        "<a href=\"https://colab.research.google.com/github/Anas182000/HOTEL-BOOKING-ANALYSIS/blob/main/ON_MY_OWN_HOTEL_BOOKING_ANALYSIS.ipynb\" target=\"_parent\"><img src=\"https://colab.research.google.com/assets/colab-badge.svg\" alt=\"Open In Colab\"/></a>"
      ]
    },
    {
      "cell_type": "markdown",
      "metadata": {
        "id": "k7CmIdCB2yHj"
      },
      "source": [
        "# Have you ever wondered when the best time of year to book a hotel room is? Or the optimal length of stay in order to get the best daily rate? What if you wanted to predict whether or not a hotel was likely to receive a disproportionately high number of special requests? This hotel booking dataset can help you explore those questions!\n",
        "# This data set contains booking information for a city hotel and a resort hotel, and includes information such as when the booking was made, length of stay, the number of adults, children, and/or babies, and the number of available parking spaces, among other things. All personally identifying information has been removed from the data. Explore and analyze the data to discover important factors that govern the bookings."
      ]
    },
    {
      "cell_type": "markdown",
      "metadata": {
        "id": "nS7MuxB65FBy"
      },
      "source": [
        "# **During the vacation or leisure trip we oftenly prefer to book hotel before the arrival date,so have we ever wondered why the prices are evenly higher than the normal days during  festive or vacation time and booking a hotel is a bit complex during those days, in this project we analyse the factors which are responsible for price fluctuation and booking hotel room**\n"
      ]
    },
    {
      "cell_type": "markdown",
      "metadata": {
        "id": "GoV15kAi42vS"
      },
      "source": []
    },
    {
      "cell_type": "code",
      "execution_count": 1,
      "metadata": {
        "id": "luSiLKL82qo6",
        "colab": {
          "base_uri": "https://localhost:8080/"
        },
        "outputId": "6b5bb07f-6ad1-4573-b5f9-ae71b99a3b36"
      },
      "outputs": [
        {
          "output_type": "stream",
          "name": "stdout",
          "text": [
            "Mounted at /content/drive\n"
          ]
        }
      ],
      "source": [
        "from google.colab import drive\n",
        "\n",
        "drive.mount(\"/content/drive\")"
      ]
    },
    {
      "cell_type": "code",
      "execution_count": null,
      "metadata": {
        "id": "Cox9_BfkwpC8"
      },
      "outputs": [],
      "source": [
        "#importing all the important libraries\n",
        "import pandas as pd\n",
        "import matplotlib.pyplot as plt\n",
        "import seaborn as sns\n",
        "import numpy as np\n",
        "\n",
        "\n"
      ]
    },
    {
      "cell_type": "code",
      "execution_count": null,
      "metadata": {
        "id": "S9ouKz4uwtiz"
      },
      "outputs": [],
      "source": [
        "#Mounting the Drive \n",
        "path=\"/content/drive/MyDrive/HOTEL BOOKING ANALYSIS/Hotel Bookings.csv\"\n",
        "df=pd.read_csv(path)"
      ]
    },
    {
      "cell_type": "code",
      "execution_count": null,
      "metadata": {
        "id": "3ouyBt7BxDK0"
      },
      "outputs": [],
      "source": [
        "df.describe()   # shows the data frame data"
      ]
    },
    {
      "cell_type": "code",
      "execution_count": null,
      "metadata": {
        "id": "5XZTL9BmxPh6"
      },
      "outputs": [],
      "source": [
        "df.info()   #it tells about the basics information of data frame"
      ]
    },
    {
      "cell_type": "code",
      "execution_count": null,
      "metadata": {
        "id": "tzJY98A8xTWT"
      },
      "outputs": [],
      "source": [
        "df.shape  #shape of the Data Frame"
      ]
    },
    {
      "cell_type": "code",
      "execution_count": null,
      "metadata": {
        "id": "JxYNdAaYxgZy"
      },
      "outputs": [],
      "source": [
        "df.head()   #shows the data frame of n rows * by default it shows starting five rows data frame"
      ]
    },
    {
      "cell_type": "code",
      "execution_count": null,
      "metadata": {
        "id": "RVTpvAAdx2HC"
      },
      "outputs": [],
      "source": [
        "df.tail()   #shows the data frame of n rows * by default it shows last five rows data frame"
      ]
    },
    {
      "cell_type": "code",
      "execution_count": null,
      "metadata": {
        "id": "iGrBvjAKCVFn"
      },
      "outputs": [],
      "source": [
        "df.columns"
      ]
    },
    {
      "cell_type": "markdown",
      "metadata": {
        "id": "F2d6gsLvByt4"
      },
      "source": [
        "# **1**) Getting handfull and meaningfull insights from the Datasets\n",
        "\n",
        "In order to get meaningfull data we have to explain the each coloumns in the dataset , this is a important step and will do this work on Excel Spreadsheet"
      ]
    },
    {
      "cell_type": "markdown",
      "source": [
        "\n",
        "\n",
        "1)is_canceled : Value indicating if the booking was canceled (1) or not (0)\n",
        "\n",
        "2)lead_time :* Number of days that elapsed between the entering date of the booking into the PMS and the arrival date*\n",
        "\n",
        "3)arrival_date_year : Year of arrival date\n",
        "\n",
        "4)arrival_date_month : Month of arrival date\n",
        "\n",
        "5)arrival_date_week_number : Week number of year for arrival date\n",
        "\n",
        "6)arrival_date_day_of_month : Day of arrival date\n",
        "\n",
        "7)stays_in_weekend_nights : Number of weekend nights (Saturday or Sunday) the guest stayed or booked to stay at the hotel\n",
        "\n",
        "8)stays_in_week_nights : Number of week nights (Monday to Friday) the guest stayed or booked to stay at the hotel\n",
        "\n",
        "9)adults : Number of adults\n",
        "\n",
        "10)children : Number of children\n",
        "\n",
        "11)babies : Number of babies\n",
        "\n",
        "12)meal : Type of meal booked. Categories are presented in standard hospitality meal packages:\n",
        "\n",
        "13)country : Country of origin.`\n",
        "\n",
        "14)market_segment : Market segment designation. In categories, the term “TA” means “Travel Agents” and “TO” means “Tour Operators”\n",
        "\n",
        "15)distribution_channel : Booking distribution channel. The term “TA” means “Travel Agents” and “TO” means “Tour Operators”\n",
        "\n",
        "16)is_repeated_guest : Value indicating if the booking name was from a repeated guest (1) or not (0)\n",
        "\n",
        "17)previous_cancellations : Number of previous bookings that were cancelled by the customer prior to the current booking\n",
        "\n",
        "18)previous_bookings_not_canceled : Number of previous bookings not cancelled by the customer prior to the current booking\n",
        "\n",
        "19)reserved_room_type : Code of room type reserved. Code is presented instead of designation for anonymity reasons.\n",
        "\n",
        "20)assigned_room_type : Code for the type of room assigned to the booking.\n",
        "\n",
        "21)booking_changes : Number of changes/amendments made to the booking from the moment the booking was entered on the PMS until the moment of check-in or cancellation\n",
        "\n",
        "22)deposit_type : Indication on if the customer made a deposit to guarantee the booking.\n",
        "\n",
        "23)agent : ID of the travel agency that made the booking\n",
        "\n",
        "24)company : ID of the company/entity that made the booking or responsible for paying the booking.\n",
        "\n",
        "25)days_in_waiting_list : Number of days the booking was in the waiting list before it was confirmed to the customer\n",
        "\n",
        "26)customer_type : Type of booking, assuming one of four categories\n",
        "\n",
        "27)adr : Average Daily Rate as defined by dividing the sum of all lodging transactions by the total number of staying nights\n",
        "\n",
        "28)required_car_parking_spaces : Number of car parking spaces required by the customer\n",
        "\n",
        "29)total_of_special_requests :* Number of special requests made by the customer (e.g. twin bed or high floor)*\n",
        "\n",
        "30)hotel : Hotel(Resort Hotel or City Hotel)\n",
        "\n",
        "31)reservation_status : Reservation last status, assuming one of three categories\n",
        "\n",
        "a)Canceled – booking was canceled by the customer \n",
        "\n",
        "b)Check-Out – customer has checked in but already departed\n",
        "\n",
        "c)No-Show – customer did not check-in and did inform the hotel of the reason why\n",
        "\n",
        "32)reservation_status_date : Date at which the last status was set. This variable can be used in conjunction with the ReservationStatus to understand when was the booking canceled or when did the customer checked-out of the hotel"
      ],
      "metadata": {
        "id": "4Koh2V5r31pS"
      }
    },
    {
      "cell_type": "code",
      "source": [
        "df[\"reservation_status_date\"]"
      ],
      "metadata": {
        "id": "q1I10we0-W4o"
      },
      "execution_count": null,
      "outputs": []
    },
    {
      "cell_type": "code",
      "source": [
        "#Changing the object type to date time\n",
        "df['reservation_status_date'] = pd.to_datetime(df['reservation_status_date'], errors='coerce')"
      ],
      "metadata": {
        "id": "i1OjjgkV-qFp"
      },
      "execution_count": null,
      "outputs": []
    },
    {
      "cell_type": "code",
      "source": [
        "df[\"reservation_status_date\"]"
      ],
      "metadata": {
        "id": "moi1jaMq_g7p"
      },
      "execution_count": null,
      "outputs": []
    },
    {
      "cell_type": "markdown",
      "source": [
        "# First Of All we will Clean the Data by dropping the Null values "
      ],
      "metadata": {
        "id": "d2rh4E7f_7Vo"
      }
    },
    {
      "cell_type": "code",
      "source": [
        "# Counting  the duplicate rows in the dataset provided\n",
        "#What is duplicate observation-->Duplicate observations occur when two or more rows have the same values or nearly the same values\n",
        "duplicate_Value=df.duplicated().value_counts()    #true means duplicate rows in the dataset"
      ],
      "metadata": {
        "id": "z0aTxgzT_6EY"
      },
      "execution_count": null,
      "outputs": []
    },
    {
      "cell_type": "markdown",
      "source": [
        "# *1)Finding The Duplicate and Original Rows in a Dataset*"
      ],
      "metadata": {
        "id": "d3-7YKmSSFYG"
      }
    },
    {
      "cell_type": "code",
      "source": [
        "#Now We will visualize the data of duplicate and original rows through the count pot\n",
        "plt.figure(figsize=(10,10))\n",
        "sns.countplot(x=df.duplicated())\n"
      ],
      "metadata": {
        "id": "SHbg9fRP_6N2"
      },
      "execution_count": null,
      "outputs": []
    },
    {
      "cell_type": "markdown",
      "source": [
        "# **Conclusion**  : There Are 31994   of duplicate rows in our dataset so we will drop that rows from our dataset"
      ],
      "metadata": {
        "id": "Mi-8sOErM0Zt"
      }
    },
    {
      "cell_type": "code",
      "source": [
        "#Now dropped the duplicate rows from the dataset\n",
        "df= df.drop_duplicates()"
      ],
      "metadata": {
        "id": "f4LiST6sBju6"
      },
      "execution_count": null,
      "outputs": []
    },
    {
      "cell_type": "code",
      "source": [
        "#Now again checking the number of rows and coloumn\n",
        "print(f' We have total {df.shape[0]} rows and {df.shape[1]} columns.')"
      ],
      "metadata": {
        "id": "F3ExXEOOQRT0"
      },
      "execution_count": null,
      "outputs": []
    },
    {
      "cell_type": "code",
      "source": [
        "#Looking for the Null/NaN/Missing Values :\n",
        "df.isna().sum().sort_values(ascending=False)[:10]"
      ],
      "metadata": {
        "id": "83vemFXq-V2x"
      },
      "execution_count": null,
      "outputs": []
    },
    {
      "cell_type": "code",
      "source": [
        "# Filling/replacing null values with 0.\n",
        "null_columns=['agent','children','company']\n",
        "for i in null_columns:\n",
        "  df[i].fillna(0,inplace=True)\n",
        "\n",
        "\n",
        "# Replacing countr values with 'Undefined'\n",
        "df['country'].fillna('Undefined',inplace=True)\n"
      ],
      "metadata": {
        "id": "G2eLZrKITVRI"
      },
      "execution_count": null,
      "outputs": []
    },
    {
      "cell_type": "code",
      "source": [
        "#Successfully handled  Null Values\n",
        "df.isna().sum().sort_values(ascending=False)[:6]"
      ],
      "metadata": {
        "id": "7Y3pHVODTuAB"
      },
      "execution_count": null,
      "outputs": []
    },
    {
      "cell_type": "code",
      "source": [
        "df['arrival_date_month'].value_counts()"
      ],
      "metadata": {
        "id": "3cT1E0B6T7XZ"
      },
      "execution_count": null,
      "outputs": []
    },
    {
      "cell_type": "markdown",
      "source": [
        "## *2) Most preffered Month By Travellers To Travel*"
      ],
      "metadata": {
        "id": "Ur3y-oYvSeuY"
      }
    },
    {
      "cell_type": "code",
      "source": [
        "df['arrival_date_month'].value_counts().plot.pie(explode=[0.05]*12, autopct='%1.1f%%', shadow=True, figsize=(10,8),fontsize=20) \n",
        "plt.title(\"pie chart for most preferred month\")  "
      ],
      "metadata": {
        "id": "QEduJmktUBcv"
      },
      "execution_count": null,
      "outputs": []
    },
    {
      "cell_type": "code",
      "source": [
        "df[\"hotel\"].value_counts()"
      ],
      "metadata": {
        "id": "obAS7eklU6Jf"
      },
      "execution_count": null,
      "outputs": []
    },
    {
      "cell_type": "markdown",
      "source": [
        "# *3) Most Preffered Hotel by Travellers*"
      ],
      "metadata": {
        "id": "ihnziBeOS4Hf"
      }
    },
    {
      "cell_type": "code",
      "source": [
        "df['hotel'].value_counts().plot.pie(explode=[0.05,0.05],autopct='%1.1f%%', shadow=True, figsize=(10,8),fontsize=20) \n",
        "plt.title(\"Pie Chart for most preferred Hotel \")  "
      ],
      "metadata": {
        "id": "GuAfuGSpU_dl"
      },
      "execution_count": null,
      "outputs": []
    },
    {
      "cell_type": "markdown",
      "source": [
        "## **Conclusion**: Most Preferred Hotel By the travellers is City Hotel"
      ],
      "metadata": {
        "id": "BS0LbUK2Vo5u"
      }
    },
    {
      "cell_type": "markdown",
      "source": [
        "# *4) Checking for the hotel which has better ADR(Average Daily Rate)*italicised text*"
      ],
      "metadata": {
        "id": "CffNoIs3bWu8"
      }
    },
    {
      "cell_type": "code",
      "source": [
        "#Grouping The Hotel ADR\n",
        "group_by_hotel=df.groupby('hotel')"
      ],
      "metadata": {
        "id": "LH0VCqTsc-z2"
      },
      "execution_count": null,
      "outputs": []
    },
    {
      "cell_type": "code",
      "source": [
        "#Calculating Highest ADR\n",
        "highest_adr=group_by_hotel.mean().reset_index()\n",
        "\n",
        "#Setting The Plot Size \n",
        "plt.figure(figsize=(8,10))\n",
        "\n",
        "#Setting The Labels Of the Graph\n",
        "plt.xlabel('Hotel Type')\n",
        "plt.ylabel('ADR')\n",
        "plt.title(\"Avg ADR of each Hotel Type\")\n",
        "\n",
        "#Plotting The Graph\n",
        "sns.barplot(x=highest_adr['hotel'],y=highest_adr['adr'])"
      ],
      "metadata": {
        "id": "XcTl1yKmcFGF"
      },
      "execution_count": null,
      "outputs": []
    },
    {
      "cell_type": "markdown",
      "source": [
        "# **CONCLUSION** : More the ADR , More the Revenue so City Hotel generates More Revenue"
      ],
      "metadata": {
        "id": "E_qXR8hEgT8l"
      }
    },
    {
      "cell_type": "markdown",
      "source": [
        "#*5) From which country The Maximum Travellers come?*\n",
        "\n",
        "ABBREVATIONS OF COUNTRIES :\n",
        "\n",
        "\n",
        "GBR- Great Britian\n",
        "\n",
        "PRT- Portugal\n",
        "\n",
        "FRA- France\n",
        "\n",
        "ESP- Spain\n",
        "\n",
        "ITA -Itlay\n",
        "\n",
        "IRL - Ireland\n",
        "\n",
        "BRA -Brazil\n",
        "\n",
        "DEU - Germany\n",
        "\n",
        "NLD-Netherlands\n",
        "\n",
        "BEL -Belgium"
      ],
      "metadata": {
        "id": "uSnTEk5EhvBT"
      }
    },
    {
      "cell_type": "code",
      "source": [
        "Data_country=df[\"country\"].value_counts()[:10]   # Collecting The Ten Most Visited Travellers Countries"
      ],
      "metadata": {
        "id": "-9cq-mt2h7YD"
      },
      "execution_count": null,
      "outputs": []
    },
    {
      "cell_type": "code",
      "source": [
        "#Visualizing Percentage Of Travellers  Through the Pie chart\n",
        "Data_country.plot.pie(explode=[0.05]*10,autopct='%1.1f%%', shadow=True, figsize=(10,8),fontsize=20)\n",
        "plt.title(\"Pie Chart for most Travellers Across The Globe\")"
      ],
      "metadata": {
        "id": "5dhonLOViU7E"
      },
      "execution_count": null,
      "outputs": []
    },
    {
      "cell_type": "markdown",
      "source": [
        "# CONCLUSION : The maximum No of Travellers are from PRT(Portugal)"
      ],
      "metadata": {
        "id": "9hqqpHWETT9i"
      }
    },
    {
      "cell_type": "code",
      "source": [
        "# Counting the Travellers from various Countries\n",
        "Data_country=df['country'].value_counts().reset_index().rename(columns={'index': 'country','country': 'count of guests'})[:10]\n",
        "\n",
        "\n",
        "# Visualizing through by Plotting the Graph\n",
        "plt.figure(figsize=(20,8))\n",
        "sns.barplot(x=Data_country['country'],y=Data_country['count of guests'])\n",
        "plt.xlabel('Country')\n",
        "plt.ylabel('Number of guests',fontsize=12)\n",
        "plt.title(\"Number of guests from diffrent Countries\")"
      ],
      "metadata": {
        "id": "HIElu1i3l-pT"
      },
      "execution_count": null,
      "outputs": []
    },
    {
      "cell_type": "code",
      "source": [
        "df[\"customer_type\"].value_counts()"
      ],
      "metadata": {
        "id": "WDAYFFFy3hok"
      },
      "execution_count": null,
      "outputs": []
    },
    {
      "cell_type": "markdown",
      "source": [
        "# *6) Which Type of Customer has maximum Booking?*"
      ],
      "metadata": {
        "id": "z8DCYuNbUfrQ"
      }
    },
    {
      "cell_type": "code",
      "source": [
        "df[\"customer_type\"].value_counts().plot.pie(explode=[0.05]*4,autopct='%1.1f%%', shadow=True, figsize=(10,8),fontsize=20)\n",
        "plt.title(\"Pie Chart for type of customer \")"
      ],
      "metadata": {
        "id": "sTBke82s3rq7"
      },
      "execution_count": null,
      "outputs": []
    },
    {
      "cell_type": "markdown",
      "source": [
        "# CONCLUSION : Transient type(82.4%) is the maximum type of customer in the Hotel booking"
      ],
      "metadata": {
        "id": "JnfCJVtz5BOk"
      }
    },
    {
      "cell_type": "markdown",
      "source": [
        "# *7)  Which agent has brought maximum no of Travellers?*"
      ],
      "metadata": {
        "id": "gPMW25PL6Xqz"
      }
    },
    {
      "cell_type": "code",
      "source": [
        "# Highest number of booking made by Agents\n",
        "Highest_bookings= df.groupby(['agent'])['agent'].agg({'count'}).reset_index().rename(columns={'count': \"Most_Bookings\" }).sort_values(by='Most_Bookings',ascending=False)\n",
        "\n",
        " # As Agent 0 has NAN value and we replaced it with 0 so it has no booking so droping values og Agent 0\n",
        "Highest_bookings.drop(Highest_bookings[Highest_bookings['agent']==0].index,inplace=True) \n",
        "\n",
        "# taking top 10 bookings made by agent\n",
        "top_ten_highest_bookings=Highest_bookings[:10]\n",
        "\n",
        "top_ten_highest_bookings"
      ],
      "metadata": {
        "id": "qCsLYiTF6roM"
      },
      "execution_count": null,
      "outputs": []
    },
    {
      "cell_type": "code",
      "source": [
        "#Visualizaing the Graph Through Bar Plot\n",
        "\n",
        "plt.figure(figsize=(20,10))\n",
        "sns.barplot(x=top_ten_highest_bookings['agent'],y=top_ten_highest_bookings['Most_Bookings'],order=top_ten_highest_bookings['agent'])\n",
        "plt.xlabel('Agent Number')\n",
        "plt.ylabel('Number of Bookings')\n",
        "plt.title(\"Most Bookings Made by the Agent\")\n"
      ],
      "metadata": {
        "id": "noyGDQLdOv8B"
      },
      "execution_count": null,
      "outputs": []
    },
    {
      "cell_type": "markdown",
      "source": [
        "# CONCLUSION : **Agent Number 9** has the Maximum number of Booking, so we can provide a better commission to Agent 9 to increase more booking from him"
      ],
      "metadata": {
        "id": "4sc8RjRtPzFo"
      }
    },
    {
      "cell_type": "markdown",
      "source": [
        "# *8)Which type Of meal has more demand by the travellers?*\n",
        "\n",
        "Types of Meal in Hotels:\n",
        "\n",
        "BB - (Bed and Breakfast)\n",
        "\n",
        "HB- (Half Board)\n",
        "\n",
        "FB- (Full Board)\n",
        "\n",
        "SC- (Self Catering)\n"
      ],
      "metadata": {
        "id": "ISvZBv3qVLto"
      }
    },
    {
      "cell_type": "code",
      "source": [
        "df[\"meal\"].value_counts()"
      ],
      "metadata": {
        "id": "ZSK9nSNnVdEv"
      },
      "execution_count": null,
      "outputs": []
    },
    {
      "cell_type": "code",
      "source": [
        "plt.figure(figsize=(20,8))\n",
        "sns.countplot(x=df[\"meal\"])\n",
        "plt.xlabel('Meal Type')\n",
        "plt.ylabel('Count')\n",
        "plt.title(\"Most Preferred Meal Type\")"
      ],
      "metadata": {
        "id": "aGwfRHStWffO"
      },
      "execution_count": null,
      "outputs": []
    },
    {
      "cell_type": "code",
      "source": [
        "#plotting a pie chart\n",
        "df[\"meal\"].value_counts().plot.pie(explode=[0.05]*5,autopct='%1.1f%%' , shadow=True, figsize=(10,8),fontsize=20)\n",
        "plt.title(\"Pie Chart for type of customer \")\n"
      ],
      "metadata": {
        "id": "bQAlg8rkYVAP"
      },
      "execution_count": null,
      "outputs": []
    },
    {
      "cell_type": "markdown",
      "source": [
        "# CONCLUSION : BB(BED & BREAKFAST) Meal is Mostly Preferred By the Travellers"
      ],
      "metadata": {
        "id": "_KNtgWz2XrSI"
      }
    },
    {
      "cell_type": "markdown",
      "source": [
        "# *9) What is the Percentage of Cancelled Booking?*\n",
        "\n",
        "0 Denotes--> Percentage of Booking Not cancelled \n",
        "\n",
        "1 Denotes--> Percentage of Booking Cancelled"
      ],
      "metadata": {
        "id": "lwLFwTOmapeP"
      }
    },
    {
      "cell_type": "code",
      "source": [
        "df[\"is_canceled\"].value_counts()"
      ],
      "metadata": {
        "id": "0jIKPUUXbMpv"
      },
      "execution_count": null,
      "outputs": []
    },
    {
      "cell_type": "code",
      "source": [
        "df['is_canceled'].value_counts().plot.pie(explode=[0.05, 0.05], autopct='%1.1f%%', shadow=True, figsize=(10,10),fontsize=30)\n",
        "plt.title(\"Cancelled and Non Cancelled Booking\")"
      ],
      "metadata": {
        "id": "dFMkRpS4a4MN"
      },
      "execution_count": null,
      "outputs": []
    },
    {
      "cell_type": "markdown",
      "source": [
        "# CONCLUSION : Only 27.5% Booking is Cancelled"
      ],
      "metadata": {
        "id": "i67FBh2Icn92"
      }
    },
    {
      "cell_type": "markdown",
      "source": [
        "# *10) Most Reseved Room Type By the travellers?*"
      ],
      "metadata": {
        "id": "wKZvzkpldtYn"
      }
    },
    {
      "cell_type": "code",
      "source": [
        "#only taking the top six reserved room type\n",
        "reserved_type_room=df[\"reserved_room_type\"].value_counts().reset_index().rename(columns={'index': 'room_type','reserved_room_type': 'count_of_room'})[:6]\n",
        "\n",
        "\n"
      ],
      "metadata": {
        "id": "QAnnRiRGc1aV"
      },
      "execution_count": null,
      "outputs": []
    },
    {
      "cell_type": "code",
      "source": [
        "#Visualizing The Data through bar plot\n",
        "plt.figure(figsize=(20,8))\n",
        "sns.barplot(x=reserved_type_room['room_type'],y=reserved_type_room['count_of_room'])\n",
        "plt.xlabel('Room_Type')\n",
        "plt.ylabel('Count_Room_Type',fontsize=12)\n",
        "plt.title(\"Most Preferred Meal Type\")"
      ],
      "metadata": {
        "id": "IMjF6sYWdPPr"
      },
      "execution_count": null,
      "outputs": []
    },
    {
      "cell_type": "markdown",
      "source": [
        "# CONCLUSION : The Room Type (A) is more reserved type room , we can increase the price of this Room to generate more Revenue "
      ],
      "metadata": {
        "id": "3eDq1kmCwD8L"
      }
    },
    {
      "cell_type": "markdown",
      "source": [
        "# *11) Deposit Type?*"
      ],
      "metadata": {
        "id": "3ADmvYd9wiga"
      }
    },
    {
      "cell_type": "code",
      "source": [
        "df[\"deposit_type\"].value_counts()"
      ],
      "metadata": {
        "id": "ObVXexopw8yF"
      },
      "execution_count": null,
      "outputs": []
    },
    {
      "cell_type": "code",
      "source": [
        "# Visualize The Data Through Graph\n",
        "#Setting The Plot size\n",
        "plt.figure(figsize=(12,8))\n",
        "\n",
        "\n",
        "sns.countplot(x=df['deposit_type'],hue=df['is_canceled'])\n",
        "plt.title(\"Year Wise bookings\")"
      ],
      "metadata": {
        "id": "u9SYs6h4xEeo"
      },
      "execution_count": null,
      "outputs": []
    },
    {
      "cell_type": "markdown",
      "source": [
        "# CONCLUSION : Deposit type --> (No Deposit) Has Maximum Cancellation as comparing To others Deposit type"
      ],
      "metadata": {
        "id": "8hqJBIvV9-mk"
      }
    },
    {
      "cell_type": "code",
      "source": [
        "df[\"stays_in_weekend_nights\"].value_counts()[:8]"
      ],
      "metadata": {
        "id": "oTw9dNKpyI3x"
      },
      "execution_count": null,
      "outputs": []
    },
    {
      "cell_type": "markdown",
      "source": [],
      "metadata": {
        "id": "DtTuHqxhCIm-"
      }
    },
    {
      "cell_type": "code",
      "source": [
        "df[\"stays_in_week_nights\"].value_counts()"
      ],
      "metadata": {
        "id": "RtTMmj4t_5A2"
      },
      "execution_count": null,
      "outputs": []
    },
    {
      "cell_type": "markdown",
      "source": [
        "# *12) Checking The Percentage of Repeated guest in Hotels?*\n",
        "\n",
        "\n",
        "0----> Denotes Non_Repeated_Guests\n",
        "\n",
        "1----> Denotes Repeated_Guests\n"
      ],
      "metadata": {
        "id": "YycSq_hKCJyx"
      }
    },
    {
      "cell_type": "code",
      "source": [
        "#Countng Repeated and Non Repeated Guests\n",
        "df[\"is_repeated_guest\"].value_counts()"
      ],
      "metadata": {
        "id": "3aZLWqYpDjYf"
      },
      "execution_count": null,
      "outputs": []
    },
    {
      "cell_type": "code",
      "source": [
        "#Visualizing The Repeated And Non Repeated Guests Through Pie Chart\n",
        "df[\"is_repeated_guest\"].value_counts().plot.pie(explode=[0.05,0.05],autopct='%1.1f%%', shadow=True, figsize=(10,10),fontsize=30)\n",
        "\n",
        "# retention rate by hotels\n",
        "\n",
        "reten_guest = df.groupby(['is_repeated_guest'])['is_repeated_guest'].count()\n",
        "reten_dig = reten_guest.plot(kind = 'pie', subplots = True, figsize=(10,5), autopct='%1.1f%%', title = 'retention rate by hotels')\n"
      ],
      "metadata": {
        "id": "OxDzB5WoAOJV"
      },
      "execution_count": null,
      "outputs": []
    },
    {
      "cell_type": "code",
      "source": [],
      "metadata": {
        "id": "3VFyvDRGCC2O"
      },
      "execution_count": null,
      "outputs": []
    },
    {
      "cell_type": "markdown",
      "source": [
        "# CONCLUSION : The retention Percentage of Hotels Is very Low (3.9%)"
      ],
      "metadata": {
        "id": "GZN_-JGYG10E"
      }
    },
    {
      "cell_type": "markdown",
      "source": [
        "# *13) Checking The Car Parking spaces Required By Customers?*"
      ],
      "metadata": {
        "id": "T9RaBVReHmG-"
      }
    },
    {
      "cell_type": "code",
      "source": [
        "#Count of Car Parking Spaces\n",
        "df[\"required_car_parking_spaces\"].value_counts()"
      ],
      "metadata": {
        "id": "Fp_KqdGKIXJe"
      },
      "execution_count": null,
      "outputs": []
    },
    {
      "cell_type": "code",
      "source": [
        "#Visualize The Data Through By Pie graph\n",
        "df[\"required_car_parking_spaces\"].value_counts().plot.pie(explode=[0.05]*5,autopct='%1.1f%%', shadow=True, figsize=(10,10),fontsize=30)\n",
        "plt.title(\" Percentage Of Car Parking Spaces Required \",fontsize=30)\n",
        "\n",
        " "
      ],
      "metadata": {
        "id": "u1nFWCVufb_6"
      },
      "execution_count": null,
      "outputs": []
    },
    {
      "cell_type": "markdown",
      "source": [
        "# CONCLUSION : Almost 91.6% customers don't need parking spaces so it's not a Major concern for Generating Revenue"
      ],
      "metadata": {
        "id": "R4c0DQbikV_J"
      }
    },
    {
      "cell_type": "markdown",
      "source": [
        "14) Booking Changes "
      ],
      "metadata": {
        "id": "KmLXq7v3rNZW"
      }
    },
    {
      "cell_type": "code",
      "source": [
        "booking_changes_df=df['booking_changes'].value_counts().reset_index().rename(columns={'index': \"number_booking_changes\",'booking_changes':'Counts'})\n",
        "\n",
        "plt.figure(figsize=(12,8))\n",
        "sns.barplot(x=booking_changes_df['number_booking_changes'],y=booking_changes_df['Counts']*100/df.shape[0])\n",
        "plt.title(\"% of Booking change\")\n",
        "plt.xlabel('Number of booking changes')\n",
        "plt.ylabel('Percentage(%)')"
      ],
      "metadata": {
        "id": "PnGrUAgElFUo"
      },
      "execution_count": null,
      "outputs": []
    },
    {
      "cell_type": "code",
      "source": [
        "df[\"booking_changes\"].value_counts()"
      ],
      "metadata": {
        "id": "kkm_AjUXreH9"
      },
      "execution_count": null,
      "outputs": []
    },
    {
      "cell_type": "code",
      "source": [
        "df"
      ],
      "metadata": {
        "id": "OEYMQ5UPrjDc"
      },
      "execution_count": null,
      "outputs": []
    },
    {
      "cell_type": "code",
      "source": [
        "df.corr()"
      ],
      "metadata": {
        "id": "jfjvfVa9zKNS"
      },
      "execution_count": null,
      "outputs": []
    }
  ],
  "metadata": {
    "colab": {
      "name": " ON  MY OWN HOTEL BOOKING ANALYSIS",
      "provenance": [],
      "authorship_tag": "ABX9TyOuZjaggEz5ARX1mtYCJm5H",
      "include_colab_link": true
    },
    "kernelspec": {
      "display_name": "Python 3",
      "name": "python3"
    },
    "language_info": {
      "name": "python"
    }
  },
  "nbformat": 4,
  "nbformat_minor": 0
}